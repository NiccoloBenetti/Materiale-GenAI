{
 "cells": [
  {
   "cell_type": "markdown",
   "metadata": {},
   "source": [
    "# Manage Analyzers in Your Resource"
   ]
  },
  {
   "cell_type": "markdown",
   "metadata": {},
   "source": [
    "This notebook demo how to create a simple analyzer and manage its lifecycle.\n",
    "\n",
    "Source: https://github.com/Azure-Samples/azure-ai-content-understanding-python.git"
   ]
  },
  {
   "cell_type": "markdown",
   "metadata": {},
   "source": [
    "## Create Azure AI Content Understanding Client\n",
    "\n",
    "> The [AzureContentUnderstandingClient](python/content_understanding_client.py) is a utility class containing functions to interact with the Content Understanding API. \n",
    "\n",
    "\n",
    "Before the official release of the Content Understanding SDK, it can be regarded as a lightweight SDK.\n"
   ]
  },
  {
   "cell_type": "code",
   "execution_count": null,
   "metadata": {
    "gather": {
     "logged": 1744366572347
    }
   },
   "outputs": [],
   "source": [
    "import logging\n",
    "import json\n",
    "import os\n",
    "import sys\n",
    "from pathlib import Path\n",
    "from dotenv import find_dotenv, load_dotenv\n",
    "from azure.identity import DefaultAzureCredential, get_bearer_token_provider"
   ]
  },
  {
   "cell_type": "code",
   "execution_count": null,
   "metadata": {
    "gather": {
     "logged": 1744366572554
    }
   },
   "outputs": [],
   "source": [
    "load_dotenv(dotenv_path='../infra/credentials.env', override=True)"
   ]
  },
  {
   "cell_type": "code",
   "execution_count": null,
   "metadata": {
    "gather": {
     "logged": 1744366572705
    }
   },
   "outputs": [],
   "source": [
    "logging.basicConfig(level=logging.INFO)"
   ]
  },
  {
   "cell_type": "code",
   "execution_count": null,
   "metadata": {
    "gather": {
     "logged": 1744366572867
    }
   },
   "outputs": [],
   "source": [
    "AZURE_AI_ENDPOINT = os.getenv(\"AZURE_CU_ENDPOINT\")\n",
    "AZURE_AI_API_VERSION = os.getenv(\"AZURE_CU_API_VERSION\", \"2024-12-01-preview\")\n",
    "print(f\"Current Azure Content Understanding endpoint: {AZURE_AI_ENDPOINT}\")\n",
    "print(f\"Current Azure Content Understanding API version: {AZURE_AI_API_VERSION}\")"
   ]
  },
  {
   "cell_type": "code",
   "execution_count": null,
   "metadata": {
    "gather": {
     "logged": 1744366573029
    }
   },
   "outputs": [],
   "source": [
    "# only if necessary, add the parent directory to the path to use shared modules\n",
    "# parent_dir = Path(Path.cwd()).parent\n",
    "# sys.path.append(str(parent_dir))\n",
    "\n",
    "# import the utility class AzureContentUnderstandingClient, which is a wrapper around the Azure Content Understanding REST API client\n",
    "from python.content_understanding_client import AzureContentUnderstandingClient"
   ]
  },
  {
   "cell_type": "code",
   "execution_count": null,
   "metadata": {
    "gather": {
     "logged": 1744366573150
    }
   },
   "outputs": [],
   "source": [
    "credential = DefaultAzureCredential()\n",
    "token_provider = get_bearer_token_provider(credential, \"https://cognitiveservices.azure.com/.default\")"
   ]
  },
  {
   "cell_type": "code",
   "execution_count": null,
   "metadata": {
    "gather": {
     "logged": 1744366074469
    }
   },
   "outputs": [],
   "source": [
    "client = AzureContentUnderstandingClient(\n",
    "    endpoint=AZURE_AI_ENDPOINT,\n",
    "    api_version=AZURE_AI_API_VERSION,\n",
    "    token_provider=token_provider,\n",
    "    x_ms_useragent=\"azure-ai-content-understanding-python/analyzer_management\", # This header is used for sample usage telemetry, please comment out this line if you want to opt out.\n",
    ")"
   ]
  },
  {
   "cell_type": "markdown",
   "metadata": {},
   "source": [
    "## Create a simple analyzer\n",
    "We first create an analyzer from a template to extract invoice fields."
   ]
  },
  {
   "cell_type": "code",
   "execution_count": null,
   "metadata": {
    "gather": {
     "logged": 1744366424874
    }
   },
   "outputs": [],
   "source": [
    "import uuid\n",
    "\n",
    "ANALYZER_TEMPLATE = \"analyzer_templates/my_invoice_analyzer_template.json\" #call_recording_analytics.json\"\n",
    "ANALYZER_ID = \"my_invoice_niccolo\"\n",
    "# ANALYZER_ID = \"analyzer-management-sample-\" + str(uuid.uuid4())\n",
    "\n",
    "response = client.begin_create_analyzer(ANALYZER_ID, analyzer_template_path=ANALYZER_TEMPLATE)\n",
    "result = client.poll_result(response)\n",
    "\n",
    "print(json.dumps(result, indent=2))"
   ]
  },
  {
   "cell_type": "markdown",
   "metadata": {},
   "source": [
    "## List all analyzers created in your resource"
   ]
  },
  {
   "cell_type": "markdown",
   "metadata": {},
   "source": [
    "After the analyzer is successfully created, we can use it to analyze our input files."
   ]
  },
  {
   "cell_type": "code",
   "execution_count": null,
   "metadata": {
    "gather": {
     "logged": 1744366427125
    }
   },
   "outputs": [],
   "source": [
    "all_analyzers = client.get_all_analyzers()\n",
    "print(f\"Number of analyzers in your resource: {len(all_analyzers['value'])}\")\n",
    "print(f\"First 3 analyzer details: {json.dumps(all_analyzers['value'][:3], indent=2)}\")"
   ]
  },
  {
   "cell_type": "code",
   "execution_count": null,
   "metadata": {
    "gather": {
     "logged": 1744366437330
    }
   },
   "outputs": [],
   "source": [
    "import pandas as pd\n",
    "df_analyzers = pd.json_normalize(all_analyzers['value'])\n",
    "df_analyzers_sorted = df_analyzers.sort_values(by='createdAt', ascending=False)\n",
    "df_analyzers_sorted[['analyzerId', 'createdAt']]"
   ]
  },
  {
   "cell_type": "markdown",
   "metadata": {},
   "source": [
    "## Get analyzer details with id\n",
    "\n",
    "Remember the analyzer id when you create it. You can use the id to look up detail analyzer definitions afterwards."
   ]
  },
  {
   "cell_type": "code",
   "execution_count": null,
   "metadata": {
    "gather": {
     "logged": 1744296640864
    }
   },
   "outputs": [],
   "source": [
    "result = client.get_analyzer_detail_by_id(ANALYZER_ID)\n",
    "print(json.dumps(result, indent=2))"
   ]
  },
  {
   "cell_type": "markdown",
   "metadata": {},
   "source": [
    "## Delete Analyzer\n",
    "If you don't need an analyzer anymore, delete it with its id."
   ]
  },
  {
   "cell_type": "code",
   "execution_count": null,
   "metadata": {
    "gather": {
     "logged": 1744296644034
    }
   },
   "outputs": [],
   "source": [
    "client.delete_analyzer(ANALYZER_ID)"
   ]
  },
  {
   "cell_type": "code",
   "execution_count": null,
   "metadata": {
    "gather": {
     "logged": 1744298251941
    }
   },
   "outputs": [],
   "source": [
    "client.delete_analyzer(\"my_invoice_analyzer\")"
   ]
  }
 ],
 "metadata": {
  "kernel_info": {
   "name": "aifoundry_env"
  },
  "kernelspec": {
   "display_name": "testenv",
   "language": "python",
   "name": "testenv"
  },
  "language_info": {
   "codemirror_mode": {
    "name": "ipython",
    "version": 3
   },
   "file_extension": ".py",
   "mimetype": "text/x-python",
   "name": "python",
   "nbconvert_exporter": "python",
   "pygments_lexer": "ipython3",
   "version": "3.10.16"
  },
  "microsoft": {
   "host": {
    "AzureML": {
     "notebookHasBeenCompleted": true
    }
   },
   "ms_spell_check": {
    "ms_spell_check_language": "en"
   }
  },
  "nteract": {
   "version": "nteract-front-end@1.0.0"
  }
 },
 "nbformat": 4,
 "nbformat_minor": 4
}
