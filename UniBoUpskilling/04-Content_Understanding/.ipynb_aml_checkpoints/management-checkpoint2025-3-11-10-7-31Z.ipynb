{
 "cells": [
  {
   "cell_type": "markdown",
   "metadata": {},
   "source": [
    "# Manage Analyzers in Your Resource"
   ]
  },
  {
   "cell_type": "markdown",
   "metadata": {},
   "source": [
    "This notebook demo how to create a simple analyzer and manage its lifecycle.\n",
    "\n",
    "Source: https://github.com/Azure-Samples/azure-ai-content-understanding-python.git"
   ]
  },
  {
   "cell_type": "markdown",
   "metadata": {},
   "source": [
    "## Create Azure AI Content Understanding Client\n",
    "\n",
    "> The [AzureContentUnderstandingClient](python/content_understanding_client.py) is a utility class containing functions to interact with the Content Understanding API. \n",
    "\n",
    "\n",
    "Before the official release of the Content Understanding SDK, it can be regarded as a lightweight SDK.\n"
   ]
  },
  {
   "cell_type": "code",
   "execution_count": 1,
   "metadata": {
    "gather": {
     "logged": 1744297877366
    }
   },
   "outputs": [],
   "source": [
    "import logging\n",
    "import json\n",
    "import os\n",
    "import sys\n",
    "from pathlib import Path\n",
    "from dotenv import find_dotenv, load_dotenv\n",
    "from azure.identity import DefaultAzureCredential, get_bearer_token_provider"
   ]
  },
  {
   "cell_type": "code",
   "execution_count": 2,
   "metadata": {
    "gather": {
     "logged": 1744297877516
    }
   },
   "outputs": [
    {
     "data": {
      "text/plain": [
       "True"
      ]
     },
     "execution_count": 2,
     "metadata": {},
     "output_type": "execute_result"
    }
   ],
   "source": [
    "load_dotenv(dotenv_path='../infra/credentials.env', override=True)"
   ]
  },
  {
   "cell_type": "code",
   "execution_count": 3,
   "metadata": {
    "gather": {
     "logged": 1744297877720
    }
   },
   "outputs": [],
   "source": [
    "logging.basicConfig(level=logging.INFO)"
   ]
  },
  {
   "cell_type": "code",
   "execution_count": 4,
   "metadata": {
    "gather": {
     "logged": 1744297877865
    }
   },
   "outputs": [
    {
     "name": "stdout",
     "output_type": "stream",
     "text": [
      "Current Azure Content Understanding endpoint: https://ai-aifoundryupskillinghub687267079310.services.ai.azure.com/\n",
      "Current Azure Content Understanding API version: 2024-12-01-preview\n"
     ]
    }
   ],
   "source": [
    "AZURE_AI_ENDPOINT = os.getenv(\"AZURE_CU_ENDPOINT\")\n",
    "AZURE_AI_API_VERSION = os.getenv(\"AZURE_CU_API_VERSION\", \"2024-12-01-preview\")\n",
    "print(f\"Current Azure Content Understanding endpoint: {AZURE_AI_ENDPOINT}\")\n",
    "print(f\"Current Azure Content Understanding API version: {AZURE_AI_API_VERSION}\")"
   ]
  },
  {
   "cell_type": "code",
   "execution_count": 5,
   "metadata": {
    "gather": {
     "logged": 1744297878009
    }
   },
   "outputs": [],
   "source": [
    "# only if necessary, add the parent directory to the path to use shared modules\n",
    "# parent_dir = Path(Path.cwd()).parent\n",
    "# sys.path.append(str(parent_dir))\n",
    "\n",
    "# import the utility class AzureContentUnderstandingClient, which is a wrapper around the Azure Content Understanding REST API client\n",
    "from python.content_understanding_client import AzureContentUnderstandingClient"
   ]
  },
  {
   "cell_type": "code",
   "execution_count": 6,
   "metadata": {
    "gather": {
     "logged": 1744297878149
    }
   },
   "outputs": [
    {
     "name": "stderr",
     "output_type": "stream",
     "text": [
      "INFO:azure.identity._credentials.environment:No environment configuration found.\n",
      "INFO:azure.identity._credentials.managed_identity:ManagedIdentityCredential will use Azure ML managed identity\n"
     ]
    }
   ],
   "source": [
    "credential = DefaultAzureCredential()\n",
    "token_provider = get_bearer_token_provider(credential, \"https://cognitiveservices.azure.com/.default\")"
   ]
  },
  {
   "cell_type": "code",
   "execution_count": 7,
   "metadata": {
    "gather": {
     "logged": 1744297878275
    }
   },
   "outputs": [
    {
     "name": "stderr",
     "output_type": "stream",
     "text": [
      "INFO:azure.core.pipeline.policies.http_logging_policy:Request URL: 'http://127.0.0.1:46808/MSI/auth?api-version=REDACTED&resource=REDACTED'\n",
      "Request method: 'GET'\n",
      "Request headers:\n",
      "    'secret': 'REDACTED'\n",
      "    'User-Agent': 'azsdk-python-identity/1.21.0 Python/3.10.16 (Linux-5.15.0-1073-azure-x86_64-with-glibc2.31)'\n",
      "No body was attached to the request\n",
      "INFO:azure.core.pipeline.policies.http_logging_policy:Response status: 200\n",
      "Response headers:\n",
      "    'Content-Type': 'application/json'\n",
      "    'Date': 'Fri, 11 Apr 2025 10:07:16 GMT'\n",
      "    'Transfer-Encoding': 'chunked'\n",
      "INFO:azure.identity._credentials.chained:DefaultAzureCredential acquired a token from ManagedIdentityCredential\n"
     ]
    }
   ],
   "source": [
    "client = AzureContentUnderstandingClient(\n",
    "    endpoint=AZURE_AI_ENDPOINT,\n",
    "    api_version=AZURE_AI_API_VERSION,\n",
    "    token_provider=token_provider,\n",
    "    x_ms_useragent=\"azure-ai-content-understanding-python/analyzer_management\", # This header is used for sample usage telemetry, please comment out this line if you want to opt out.\n",
    ")"
   ]
  },
  {
   "cell_type": "markdown",
   "metadata": {},
   "source": [
    "## Create a simple analyzer\n",
    "We first create an analyzer from a template to extract invoice fields."
   ]
  },
  {
   "cell_type": "code",
   "execution_count": 8,
   "metadata": {
    "gather": {
     "logged": 1744298288814
    }
   },
   "outputs": [
    {
     "ename": "HTTPError",
     "evalue": "401 Client Error: PermissionDenied for url: https://ai-aifoundryupskillinghub687267079310.services.ai.azure.com/contentunderstanding/analyzers/my_invoice_analyzer_1?api-version=2024-12-01-preview",
     "output_type": "error",
     "traceback": [
      "\u001b[0;31m---------------------------------------------------------------------------\u001b[0m",
      "\u001b[0;31mHTTPError\u001b[0m                                 Traceback (most recent call last)",
      "Cell \u001b[0;32mIn[8], line 7\u001b[0m\n\u001b[1;32m      4\u001b[0m ANALYZER_ID \u001b[38;5;241m=\u001b[39m \u001b[38;5;124m\"\u001b[39m\u001b[38;5;124mmy_invoice_analyzer_1\u001b[39m\u001b[38;5;124m\"\u001b[39m\n\u001b[1;32m      5\u001b[0m \u001b[38;5;66;03m# ANALYZER_ID = \"analyzer-management-sample-\" + str(uuid.uuid4())\u001b[39;00m\n\u001b[0;32m----> 7\u001b[0m response \u001b[38;5;241m=\u001b[39m \u001b[43mclient\u001b[49m\u001b[38;5;241;43m.\u001b[39;49m\u001b[43mbegin_create_analyzer\u001b[49m\u001b[43m(\u001b[49m\u001b[43mANALYZER_ID\u001b[49m\u001b[43m,\u001b[49m\u001b[43m \u001b[49m\u001b[43manalyzer_template_path\u001b[49m\u001b[38;5;241;43m=\u001b[39;49m\u001b[43mANALYZER_TEMPLATE\u001b[49m\u001b[43m)\u001b[49m\n\u001b[1;32m      8\u001b[0m result \u001b[38;5;241m=\u001b[39m client\u001b[38;5;241m.\u001b[39mpoll_result(response)\n\u001b[1;32m     10\u001b[0m \u001b[38;5;28mprint\u001b[39m(json\u001b[38;5;241m.\u001b[39mdumps(result, indent\u001b[38;5;241m=\u001b[39m\u001b[38;5;241m2\u001b[39m))\n",
      "File \u001b[0;32m/mnt/batch/tasks/shared/LS_root/mounts/clusters/abutneva-compute/code/Users/abutneva/UniBoUpskilling/04-Content_Understanding/python/content_understanding_client.py:160\u001b[0m, in \u001b[0;36mAzureContentUnderstandingClient.begin_create_analyzer\u001b[0;34m(self, analyzer_id, analyzer_template, analyzer_template_path, training_storage_container_sas_url, training_storage_container_path_prefix)\u001b[0m\n\u001b[1;32m    153\u001b[0m headers\u001b[38;5;241m.\u001b[39mupdate(\u001b[38;5;28mself\u001b[39m\u001b[38;5;241m.\u001b[39m_headers)\n\u001b[1;32m    155\u001b[0m response \u001b[38;5;241m=\u001b[39m requests\u001b[38;5;241m.\u001b[39mput(\n\u001b[1;32m    156\u001b[0m     url\u001b[38;5;241m=\u001b[39m\u001b[38;5;28mself\u001b[39m\u001b[38;5;241m.\u001b[39m_get_analyzer_url(\u001b[38;5;28mself\u001b[39m\u001b[38;5;241m.\u001b[39m_endpoint, \u001b[38;5;28mself\u001b[39m\u001b[38;5;241m.\u001b[39m_api_version, analyzer_id),\n\u001b[1;32m    157\u001b[0m     headers\u001b[38;5;241m=\u001b[39mheaders,\n\u001b[1;32m    158\u001b[0m     json\u001b[38;5;241m=\u001b[39manalyzer_template,\n\u001b[1;32m    159\u001b[0m )\n\u001b[0;32m--> 160\u001b[0m \u001b[43mresponse\u001b[49m\u001b[38;5;241;43m.\u001b[39;49m\u001b[43mraise_for_status\u001b[49m\u001b[43m(\u001b[49m\u001b[43m)\u001b[49m\n\u001b[1;32m    161\u001b[0m \u001b[38;5;28mself\u001b[39m\u001b[38;5;241m.\u001b[39m_logger\u001b[38;5;241m.\u001b[39minfo(\u001b[38;5;124mf\u001b[39m\u001b[38;5;124m\"\u001b[39m\u001b[38;5;124mAnalyzer \u001b[39m\u001b[38;5;132;01m{\u001b[39;00manalyzer_id\u001b[38;5;132;01m}\u001b[39;00m\u001b[38;5;124m create request accepted.\u001b[39m\u001b[38;5;124m\"\u001b[39m)\n\u001b[1;32m    162\u001b[0m \u001b[38;5;28;01mreturn\u001b[39;00m response\n",
      "File \u001b[0;32m/anaconda/envs/aifoundry_env/lib/python3.10/site-packages/requests/models.py:1024\u001b[0m, in \u001b[0;36mResponse.raise_for_status\u001b[0;34m(self)\u001b[0m\n\u001b[1;32m   1019\u001b[0m     http_error_msg \u001b[38;5;241m=\u001b[39m (\n\u001b[1;32m   1020\u001b[0m         \u001b[38;5;124mf\u001b[39m\u001b[38;5;124m\"\u001b[39m\u001b[38;5;132;01m{\u001b[39;00m\u001b[38;5;28mself\u001b[39m\u001b[38;5;241m.\u001b[39mstatus_code\u001b[38;5;132;01m}\u001b[39;00m\u001b[38;5;124m Server Error: \u001b[39m\u001b[38;5;132;01m{\u001b[39;00mreason\u001b[38;5;132;01m}\u001b[39;00m\u001b[38;5;124m for url: \u001b[39m\u001b[38;5;132;01m{\u001b[39;00m\u001b[38;5;28mself\u001b[39m\u001b[38;5;241m.\u001b[39murl\u001b[38;5;132;01m}\u001b[39;00m\u001b[38;5;124m\"\u001b[39m\n\u001b[1;32m   1021\u001b[0m     )\n\u001b[1;32m   1023\u001b[0m \u001b[38;5;28;01mif\u001b[39;00m http_error_msg:\n\u001b[0;32m-> 1024\u001b[0m     \u001b[38;5;28;01mraise\u001b[39;00m HTTPError(http_error_msg, response\u001b[38;5;241m=\u001b[39m\u001b[38;5;28mself\u001b[39m)\n",
      "\u001b[0;31mHTTPError\u001b[0m: 401 Client Error: PermissionDenied for url: https://ai-aifoundryupskillinghub687267079310.services.ai.azure.com/contentunderstanding/analyzers/my_invoice_analyzer_1?api-version=2024-12-01-preview"
     ]
    }
   ],
   "source": [
    "import uuid\n",
    "\n",
    "ANALYZER_TEMPLATE = \"analyzer_templates/my_invoice_analyzer_template.json\" #call_recording_analytics.json\"\n",
    "ANALYZER_ID = \"my_invoice_analyzer_1\"\n",
    "# ANALYZER_ID = \"analyzer-management-sample-\" + str(uuid.uuid4())\n",
    "\n",
    "response = client.begin_create_analyzer(ANALYZER_ID, analyzer_template_path=ANALYZER_TEMPLATE)\n",
    "result = client.poll_result(response)\n",
    "\n",
    "print(json.dumps(result, indent=2))"
   ]
  },
  {
   "cell_type": "markdown",
   "metadata": {},
   "source": [
    "## List all analyzers created in your resource"
   ]
  },
  {
   "cell_type": "markdown",
   "metadata": {},
   "source": [
    "After the analyzer is successfully created, we can use it to analyze our input files."
   ]
  },
  {
   "cell_type": "code",
   "execution_count": 37,
   "metadata": {
    "gather": {
     "logged": 1744298213620
    }
   },
   "outputs": [
    {
     "name": "stdout",
     "output_type": "stream",
     "text": [
      "Number of analyzers in your resource: 4\n",
      "First 3 analyzer details: [\n",
      "  {\n",
      "    \"analyzerId\": \"prebuilt-read\",\n",
      "    \"description\": \"Extract content elements such as words, barcodes, and formulas from documents.\",\n",
      "    \"config\": {\n",
      "      \"returnDetails\": true,\n",
      "      \"enableOcr\": true,\n",
      "      \"enableLayout\": false,\n",
      "      \"enableBarcode\": false,\n",
      "      \"enableFormula\": false\n",
      "    },\n",
      "    \"warnings\": [],\n",
      "    \"status\": \"undefined\",\n",
      "    \"scenario\": \"document\"\n",
      "  },\n",
      "  {\n",
      "    \"analyzerId\": \"prebuilt-layout\",\n",
      "    \"description\": \"Extract various content and layout elements such as words, paragraphs, and tables from documents.\",\n",
      "    \"config\": {\n",
      "      \"returnDetails\": true,\n",
      "      \"enableOcr\": true,\n",
      "      \"enableLayout\": true,\n",
      "      \"enableBarcode\": false,\n",
      "      \"enableFormula\": false\n",
      "    },\n",
      "    \"warnings\": [],\n",
      "    \"status\": \"undefined\",\n",
      "    \"scenario\": \"document\"\n",
      "  },\n",
      "  {\n",
      "    \"analyzerId\": \"analyzer-management-sample-a706ced3-c0c1-4603-b1bc-d560c3fec847\",\n",
      "    \"description\": \"Sample invoice analyzer\",\n",
      "    \"createdAt\": \"2025-04-10T15:15:27Z\",\n",
      "    \"lastModifiedAt\": \"2025-04-10T15:15:31Z\",\n",
      "    \"config\": {\n",
      "      \"returnDetails\": true,\n",
      "      \"enableOcr\": true,\n",
      "      \"enableLayout\": true,\n",
      "      \"enableBarcode\": false,\n",
      "      \"enableFormula\": false,\n",
      "      \"disableContentFiltering\": false\n",
      "    },\n",
      "    \"fieldSchema\": {\n",
      "      \"fields\": {\n",
      "        \"VendorName\": {\n",
      "          \"type\": \"string\",\n",
      "          \"method\": \"extract\",\n",
      "          \"description\": \"Vendor issuing the invoice\"\n",
      "        },\n",
      "        \"Items\": {\n",
      "          \"type\": \"array\",\n",
      "          \"method\": \"extract\",\n",
      "          \"items\": {\n",
      "            \"type\": \"object\",\n",
      "            \"properties\": {\n",
      "              \"Description\": {\n",
      "                \"type\": \"string\",\n",
      "                \"method\": \"extract\",\n",
      "                \"description\": \"Description of the item\"\n",
      "              },\n",
      "              \"Amount\": {\n",
      "                \"type\": \"number\",\n",
      "                \"method\": \"extract\",\n",
      "                \"description\": \"Amount of the item\"\n",
      "              }\n",
      "            }\n",
      "          }\n",
      "        }\n",
      "      }\n",
      "    },\n",
      "    \"warnings\": [],\n",
      "    \"status\": \"ready\",\n",
      "    \"scenario\": \"document\"\n",
      "  }\n",
      "]\n"
     ]
    }
   ],
   "source": [
    "all_analyzers = client.get_all_analyzers()\n",
    "print(f\"Number of analyzers in your resource: {len(all_analyzers['value'])}\")\n",
    "print(f\"First 3 analyzer details: {json.dumps(all_analyzers['value'][:3], indent=2)}\")"
   ]
  },
  {
   "cell_type": "code",
   "execution_count": 38,
   "metadata": {
    "gather": {
     "logged": 1744298232532
    }
   },
   "outputs": [
    {
     "data": {
      "text/html": [
       "<div>\n",
       "<style scoped>\n",
       "    .dataframe tbody tr th:only-of-type {\n",
       "        vertical-align: middle;\n",
       "    }\n",
       "\n",
       "    .dataframe tbody tr th {\n",
       "        vertical-align: top;\n",
       "    }\n",
       "\n",
       "    .dataframe thead th {\n",
       "        text-align: right;\n",
       "    }\n",
       "</style>\n",
       "<table border=\"1\" class=\"dataframe\">\n",
       "  <thead>\n",
       "    <tr style=\"text-align: right;\">\n",
       "      <th></th>\n",
       "      <th>analyzerId</th>\n",
       "      <th>description</th>\n",
       "      <th>warnings</th>\n",
       "      <th>status</th>\n",
       "      <th>scenario</th>\n",
       "      <th>config.returnDetails</th>\n",
       "      <th>config.enableOcr</th>\n",
       "      <th>config.enableLayout</th>\n",
       "      <th>config.enableBarcode</th>\n",
       "      <th>config.enableFormula</th>\n",
       "      <th>...</th>\n",
       "      <th>fieldSchema.fields.People.items.properties.Role.description</th>\n",
       "      <th>fieldSchema.fields.Sentiment.type</th>\n",
       "      <th>fieldSchema.fields.Sentiment.method</th>\n",
       "      <th>fieldSchema.fields.Sentiment.description</th>\n",
       "      <th>fieldSchema.fields.Sentiment.enum</th>\n",
       "      <th>fieldSchema.fields.Categories.type</th>\n",
       "      <th>fieldSchema.fields.Categories.method</th>\n",
       "      <th>fieldSchema.fields.Categories.description</th>\n",
       "      <th>fieldSchema.fields.Categories.items.type</th>\n",
       "      <th>fieldSchema.fields.Categories.items.enum</th>\n",
       "    </tr>\n",
       "  </thead>\n",
       "  <tbody>\n",
       "    <tr>\n",
       "      <th>3</th>\n",
       "      <td>my_invoice_analyzer</td>\n",
       "      <td>Sample call recording analytics</td>\n",
       "      <td>[]</td>\n",
       "      <td>ready</td>\n",
       "      <td>callCenter</td>\n",
       "      <td>True</td>\n",
       "      <td>NaN</td>\n",
       "      <td>NaN</td>\n",
       "      <td>NaN</td>\n",
       "      <td>NaN</td>\n",
       "      <td>...</td>\n",
       "      <td>Person's title/role</td>\n",
       "      <td>string</td>\n",
       "      <td>classify</td>\n",
       "      <td>Overall sentiment</td>\n",
       "      <td>[Positive, Neutral, Negative]</td>\n",
       "      <td>array</td>\n",
       "      <td>classify</td>\n",
       "      <td>List of relevant categories</td>\n",
       "      <td>string</td>\n",
       "      <td>[Agriculture, Business, Finance, Health, Insur...</td>\n",
       "    </tr>\n",
       "    <tr>\n",
       "      <th>2</th>\n",
       "      <td>analyzer-management-sample-a706ced3-c0c1-4603-...</td>\n",
       "      <td>Sample invoice analyzer</td>\n",
       "      <td>[]</td>\n",
       "      <td>ready</td>\n",
       "      <td>document</td>\n",
       "      <td>True</td>\n",
       "      <td>True</td>\n",
       "      <td>True</td>\n",
       "      <td>False</td>\n",
       "      <td>False</td>\n",
       "      <td>...</td>\n",
       "      <td>NaN</td>\n",
       "      <td>NaN</td>\n",
       "      <td>NaN</td>\n",
       "      <td>NaN</td>\n",
       "      <td>NaN</td>\n",
       "      <td>NaN</td>\n",
       "      <td>NaN</td>\n",
       "      <td>NaN</td>\n",
       "      <td>NaN</td>\n",
       "      <td>NaN</td>\n",
       "    </tr>\n",
       "    <tr>\n",
       "      <th>0</th>\n",
       "      <td>prebuilt-read</td>\n",
       "      <td>Extract content elements such as words, barcod...</td>\n",
       "      <td>[]</td>\n",
       "      <td>undefined</td>\n",
       "      <td>document</td>\n",
       "      <td>True</td>\n",
       "      <td>True</td>\n",
       "      <td>False</td>\n",
       "      <td>False</td>\n",
       "      <td>False</td>\n",
       "      <td>...</td>\n",
       "      <td>NaN</td>\n",
       "      <td>NaN</td>\n",
       "      <td>NaN</td>\n",
       "      <td>NaN</td>\n",
       "      <td>NaN</td>\n",
       "      <td>NaN</td>\n",
       "      <td>NaN</td>\n",
       "      <td>NaN</td>\n",
       "      <td>NaN</td>\n",
       "      <td>NaN</td>\n",
       "    </tr>\n",
       "    <tr>\n",
       "      <th>1</th>\n",
       "      <td>prebuilt-layout</td>\n",
       "      <td>Extract various content and layout elements su...</td>\n",
       "      <td>[]</td>\n",
       "      <td>undefined</td>\n",
       "      <td>document</td>\n",
       "      <td>True</td>\n",
       "      <td>True</td>\n",
       "      <td>True</td>\n",
       "      <td>False</td>\n",
       "      <td>False</td>\n",
       "      <td>...</td>\n",
       "      <td>NaN</td>\n",
       "      <td>NaN</td>\n",
       "      <td>NaN</td>\n",
       "      <td>NaN</td>\n",
       "      <td>NaN</td>\n",
       "      <td>NaN</td>\n",
       "      <td>NaN</td>\n",
       "      <td>NaN</td>\n",
       "      <td>NaN</td>\n",
       "      <td>NaN</td>\n",
       "    </tr>\n",
       "  </tbody>\n",
       "</table>\n",
       "<p>4 rows × 54 columns</p>\n",
       "</div>"
      ],
      "text/plain": [
       "                                          analyzerId  \\\n",
       "3                                my_invoice_analyzer   \n",
       "2  analyzer-management-sample-a706ced3-c0c1-4603-...   \n",
       "0                                      prebuilt-read   \n",
       "1                                    prebuilt-layout   \n",
       "\n",
       "                                         description warnings     status  \\\n",
       "3                    Sample call recording analytics       []      ready   \n",
       "2                            Sample invoice analyzer       []      ready   \n",
       "0  Extract content elements such as words, barcod...       []  undefined   \n",
       "1  Extract various content and layout elements su...       []  undefined   \n",
       "\n",
       "     scenario  config.returnDetails config.enableOcr config.enableLayout  \\\n",
       "3  callCenter                  True              NaN                 NaN   \n",
       "2    document                  True             True                True   \n",
       "0    document                  True             True               False   \n",
       "1    document                  True             True                True   \n",
       "\n",
       "  config.enableBarcode config.enableFormula  ...  \\\n",
       "3                  NaN                  NaN  ...   \n",
       "2                False                False  ...   \n",
       "0                False                False  ...   \n",
       "1                False                False  ...   \n",
       "\n",
       "  fieldSchema.fields.People.items.properties.Role.description  \\\n",
       "3                                Person's title/role            \n",
       "2                                                NaN            \n",
       "0                                                NaN            \n",
       "1                                                NaN            \n",
       "\n",
       "  fieldSchema.fields.Sentiment.type fieldSchema.fields.Sentiment.method  \\\n",
       "3                            string                            classify   \n",
       "2                               NaN                                 NaN   \n",
       "0                               NaN                                 NaN   \n",
       "1                               NaN                                 NaN   \n",
       "\n",
       "  fieldSchema.fields.Sentiment.description fieldSchema.fields.Sentiment.enum  \\\n",
       "3                        Overall sentiment     [Positive, Neutral, Negative]   \n",
       "2                                      NaN                               NaN   \n",
       "0                                      NaN                               NaN   \n",
       "1                                      NaN                               NaN   \n",
       "\n",
       "  fieldSchema.fields.Categories.type fieldSchema.fields.Categories.method  \\\n",
       "3                              array                             classify   \n",
       "2                                NaN                                  NaN   \n",
       "0                                NaN                                  NaN   \n",
       "1                                NaN                                  NaN   \n",
       "\n",
       "  fieldSchema.fields.Categories.description  \\\n",
       "3               List of relevant categories   \n",
       "2                                       NaN   \n",
       "0                                       NaN   \n",
       "1                                       NaN   \n",
       "\n",
       "  fieldSchema.fields.Categories.items.type  \\\n",
       "3                                   string   \n",
       "2                                      NaN   \n",
       "0                                      NaN   \n",
       "1                                      NaN   \n",
       "\n",
       "            fieldSchema.fields.Categories.items.enum  \n",
       "3  [Agriculture, Business, Finance, Health, Insur...  \n",
       "2                                                NaN  \n",
       "0                                                NaN  \n",
       "1                                                NaN  \n",
       "\n",
       "[4 rows x 54 columns]"
      ]
     },
     "execution_count": 38,
     "metadata": {},
     "output_type": "execute_result"
    }
   ],
   "source": [
    "import pandas as pd\n",
    "df_analyzers = pd.json_normalize(all_analyzers['value'])\n",
    "df_analyzers_sorted = df_analyzers.sort_values(by='createdAt', ascending=True)\n",
    "df_analyzers_sorted"
   ]
  },
  {
   "cell_type": "markdown",
   "metadata": {},
   "source": [
    "## Get analyzer details with id\n",
    "\n",
    "Remember the analyzer id when you create it. You can use the id to look up detail analyzer definitions afterwards."
   ]
  },
  {
   "cell_type": "code",
   "execution_count": 12,
   "metadata": {
    "gather": {
     "logged": 1744296640864
    }
   },
   "outputs": [
    {
     "name": "stdout",
     "output_type": "stream",
     "text": [
      "{\n",
      "  \"analyzerId\": \"analyzer-management-sample-3d7b2f34-bde3-44de-bddf-ab506efd01e1\",\n",
      "  \"description\": \"Sample call recording analytics\",\n",
      "  \"createdAt\": \"2025-04-10T14:49:52Z\",\n",
      "  \"lastModifiedAt\": \"2025-04-10T14:49:52Z\",\n",
      "  \"config\": {\n",
      "    \"locales\": [\n",
      "      \"en-US\"\n",
      "    ],\n",
      "    \"returnDetails\": true,\n",
      "    \"disableContentFiltering\": false\n",
      "  },\n",
      "  \"fieldSchema\": {\n",
      "    \"fields\": {\n",
      "      \"Summary\": {\n",
      "        \"type\": \"string\",\n",
      "        \"method\": \"generate\",\n",
      "        \"description\": \"A one-paragraph summary\"\n",
      "      },\n",
      "      \"Topics\": {\n",
      "        \"type\": \"array\",\n",
      "        \"method\": \"generate\",\n",
      "        \"description\": \"Top 5 topics mentioned\",\n",
      "        \"items\": {\n",
      "          \"type\": \"string\"\n",
      "        }\n",
      "      },\n",
      "      \"Companies\": {\n",
      "        \"type\": \"array\",\n",
      "        \"method\": \"generate\",\n",
      "        \"description\": \"List of companies mentioned\",\n",
      "        \"items\": {\n",
      "          \"type\": \"string\"\n",
      "        }\n",
      "      },\n",
      "      \"People\": {\n",
      "        \"type\": \"array\",\n",
      "        \"method\": \"generate\",\n",
      "        \"description\": \"List of people mentioned\",\n",
      "        \"items\": {\n",
      "          \"type\": \"object\",\n",
      "          \"properties\": {\n",
      "            \"Name\": {\n",
      "              \"type\": \"string\",\n",
      "              \"description\": \"Person's name\"\n",
      "            },\n",
      "            \"Role\": {\n",
      "              \"type\": \"string\",\n",
      "              \"description\": \"Person's title/role\"\n",
      "            }\n",
      "          }\n",
      "        }\n",
      "      },\n",
      "      \"Sentiment\": {\n",
      "        \"type\": \"string\",\n",
      "        \"method\": \"classify\",\n",
      "        \"description\": \"Overall sentiment\",\n",
      "        \"enum\": [\n",
      "          \"Positive\",\n",
      "          \"Neutral\",\n",
      "          \"Negative\"\n",
      "        ]\n",
      "      },\n",
      "      \"Categories\": {\n",
      "        \"type\": \"array\",\n",
      "        \"method\": \"classify\",\n",
      "        \"description\": \"List of relevant categories\",\n",
      "        \"items\": {\n",
      "          \"type\": \"string\",\n",
      "          \"enum\": [\n",
      "            \"Agriculture\",\n",
      "            \"Business\",\n",
      "            \"Finance\",\n",
      "            \"Health\",\n",
      "            \"Insurance\",\n",
      "            \"Mining\",\n",
      "            \"Pharmaceutical\",\n",
      "            \"Retail\",\n",
      "            \"Technology\",\n",
      "            \"Transportation\"\n",
      "          ]\n",
      "        }\n",
      "      }\n",
      "    }\n",
      "  },\n",
      "  \"warnings\": [],\n",
      "  \"status\": \"ready\",\n",
      "  \"scenario\": \"callCenter\"\n",
      "}\n"
     ]
    }
   ],
   "source": [
    "result = client.get_analyzer_detail_by_id(ANALYZER_ID)\n",
    "print(json.dumps(result, indent=2))"
   ]
  },
  {
   "cell_type": "markdown",
   "metadata": {},
   "source": [
    "## Delete Analyzer\n",
    "If you don't need an analyzer anymore, delete it with its id."
   ]
  },
  {
   "cell_type": "code",
   "execution_count": 13,
   "metadata": {
    "gather": {
     "logged": 1744296644034
    }
   },
   "outputs": [
    {
     "name": "stderr",
     "output_type": "stream",
     "text": [
      "INFO:python.content_understanding_client:Analyzer analyzer-management-sample-3d7b2f34-bde3-44de-bddf-ab506efd01e1 deleted.\n"
     ]
    },
    {
     "data": {
      "text/plain": [
       "<Response [204]>"
      ]
     },
     "execution_count": 13,
     "metadata": {},
     "output_type": "execute_result"
    }
   ],
   "source": [
    "client.delete_analyzer(ANALYZER_ID)"
   ]
  },
  {
   "cell_type": "code",
   "execution_count": 39,
   "metadata": {
    "gather": {
     "logged": 1744298251941
    }
   },
   "outputs": [
    {
     "name": "stderr",
     "output_type": "stream",
     "text": [
      "INFO:python.content_understanding_client:Analyzer my_invoice_analyzer deleted.\n"
     ]
    },
    {
     "data": {
      "text/plain": [
       "<Response [204]>"
      ]
     },
     "execution_count": 39,
     "metadata": {},
     "output_type": "execute_result"
    }
   ],
   "source": [
    "client.delete_analyzer(\"my_invoice_analyzer\")"
   ]
  }
 ],
 "metadata": {
  "kernel_info": {
   "name": "my_env"
  },
  "kernelspec": {
   "display_name": "aifoundry_env",
   "language": "python",
   "name": "aifoundry_env"
  },
  "language_info": {
   "codemirror_mode": {
    "name": "ipython",
    "version": 3
   },
   "file_extension": ".py",
   "mimetype": "text/x-python",
   "name": "python",
   "nbconvert_exporter": "python",
   "pygments_lexer": "ipython3",
   "version": "3.10.16"
  },
  "microsoft": {
   "host": {
    "AzureML": {
     "notebookHasBeenCompleted": true
    }
   },
   "ms_spell_check": {
    "ms_spell_check_language": "en"
   }
  },
  "nteract": {
   "version": "nteract-front-end@1.0.0"
  }
 },
 "nbformat": 4,
 "nbformat_minor": 4
}
