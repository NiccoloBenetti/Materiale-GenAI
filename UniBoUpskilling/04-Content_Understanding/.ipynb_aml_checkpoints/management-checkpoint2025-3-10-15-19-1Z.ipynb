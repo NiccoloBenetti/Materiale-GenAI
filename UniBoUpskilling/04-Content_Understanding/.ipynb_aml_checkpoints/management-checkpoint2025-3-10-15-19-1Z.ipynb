{
  "cells": [
    {
      "cell_type": "markdown",
      "source": [
        "# Manage Analyzers in Your Resource"
      ],
      "metadata": {}
    },
    {
      "cell_type": "markdown",
      "source": [
        "This notebook demo how to create a simple analyzer and manage its lifecycle.\n",
        "\n",
        "Source: https://github.com/Azure-Samples/azure-ai-content-understanding-python.git"
      ],
      "metadata": {}
    },
    {
      "cell_type": "markdown",
      "source": [
        "## Create Azure AI Content Understanding Client\n",
        "\n",
        "> The [AzureContentUnderstandingClient](python/content_understanding_client.py) is a utility class containing functions to interact with the Content Understanding API. \n",
        "\n",
        "\n",
        "Before the official release of the Content Understanding SDK, it can be regarded as a lightweight SDK.\n"
      ],
      "metadata": {}
    },
    {
      "cell_type": "code",
      "source": [
        "import logging\n",
        "import json\n",
        "import os\n",
        "import sys\n",
        "from pathlib import Path\n",
        "from dotenv import find_dotenv, load_dotenv\n",
        "from azure.identity import DefaultAzureCredential, get_bearer_token_provider"
      ],
      "outputs": [],
      "execution_count": 24,
      "metadata": {
        "gather": {
          "logged": 1744297877366
        }
      }
    },
    {
      "cell_type": "code",
      "source": [
        "load_dotenv(dotenv_path='../infra/credentials.env', override=True)"
      ],
      "outputs": [
        {
          "output_type": "execute_result",
          "execution_count": 25,
          "data": {
            "text/plain": "True"
          },
          "metadata": {}
        }
      ],
      "execution_count": 25,
      "metadata": {
        "gather": {
          "logged": 1744297877516
        }
      }
    },
    {
      "cell_type": "code",
      "source": [
        "logging.basicConfig(level=logging.INFO)"
      ],
      "outputs": [],
      "execution_count": 26,
      "metadata": {
        "gather": {
          "logged": 1744297877720
        }
      }
    },
    {
      "cell_type": "code",
      "source": [
        "AZURE_AI_ENDPOINT = os.getenv(\"AZURE_CU_ENDPOINT\")\n",
        "AZURE_AI_API_VERSION = os.getenv(\"AZURE_CU_API_VERSION\", \"2024-12-01-preview\")\n",
        "print(f\"Current Azure Content Understanding endpoint: {AZURE_AI_ENDPOINT}\")\n",
        "print(f\"Current Azure Content Understanding API version: {AZURE_AI_API_VERSION}\")"
      ],
      "outputs": [
        {
          "output_type": "stream",
          "name": "stdout",
          "text": "Current Azure Content Understanding endpoint: https://ai-aifoundryupskillinghub687267079310.services.ai.azure.com/\nCurrent Azure Content Understanding API version: 2024-12-01-preview\n"
        }
      ],
      "execution_count": 27,
      "metadata": {
        "gather": {
          "logged": 1744297877865
        }
      }
    },
    {
      "cell_type": "code",
      "source": [
        "# only if necessary, add the parent directory to the path to use shared modules\n",
        "# parent_dir = Path(Path.cwd()).parent\n",
        "# sys.path.append(str(parent_dir))\n",
        "\n",
        "# import the utility class AzureContentUnderstandingClient, which is a wrapper around the Azure Content Understanding REST API client\n",
        "from python.content_understanding_client import AzureContentUnderstandingClient"
      ],
      "outputs": [],
      "execution_count": 28,
      "metadata": {
        "gather": {
          "logged": 1744297878009
        }
      }
    },
    {
      "cell_type": "code",
      "source": [
        "credential = DefaultAzureCredential()\n",
        "token_provider = get_bearer_token_provider(credential, \"https://cognitiveservices.azure.com/.default\")"
      ],
      "outputs": [
        {
          "output_type": "stream",
          "name": "stderr",
          "text": "INFO:azure.identity._credentials.environment:No environment configuration found.\nINFO:azure.identity._credentials.managed_identity:ManagedIdentityCredential will use Azure ML managed identity\n"
        }
      ],
      "execution_count": 29,
      "metadata": {
        "gather": {
          "logged": 1744297878149
        }
      }
    },
    {
      "cell_type": "code",
      "source": [
        "client = AzureContentUnderstandingClient(\n",
        "    endpoint=AZURE_AI_ENDPOINT,\n",
        "    api_version=AZURE_AI_API_VERSION,\n",
        "    token_provider=token_provider,\n",
        "    x_ms_useragent=\"azure-ai-content-understanding-python/analyzer_management\", # This header is used for sample usage telemetry, please comment out this line if you want to opt out.\n",
        ")"
      ],
      "outputs": [
        {
          "output_type": "stream",
          "name": "stderr",
          "text": "INFO:azure.core.pipeline.policies.http_logging_policy:Request URL: 'http://127.0.0.1:46808/MSI/auth?api-version=REDACTED&resource=REDACTED'\nRequest method: 'GET'\nRequest headers:\n    'secret': 'REDACTED'\n    'User-Agent': 'azsdk-python-identity/1.21.0 Python/3.10.16 (Linux-5.15.0-1073-azure-x86_64-with-glibc2.31)'\nNo body was attached to the request\nINFO:azure.core.pipeline.policies.http_logging_policy:Response status: 200\nResponse headers:\n    'Content-Type': 'application/json'\n    'Date': 'Thu, 10 Apr 2025 15:11:16 GMT'\n    'Transfer-Encoding': 'chunked'\nINFO:azure.identity._credentials.chained:DefaultAzureCredential acquired a token from ManagedIdentityCredential\n"
        }
      ],
      "execution_count": 30,
      "metadata": {
        "gather": {
          "logged": 1744297878275
        }
      }
    },
    {
      "cell_type": "markdown",
      "source": [
        "## Create a simple analyzer\n",
        "We first create an analyzer from a template to extract invoice fields."
      ],
      "metadata": {}
    },
    {
      "cell_type": "code",
      "source": [
        "import uuid\n",
        "\n",
        "ANALYZER_TEMPLATE = \"analyzer_templates/my_invoice_analyzer_template.json\" #call_recording_analytics.json\"\n",
        "ANALYZER_ID = \"my_invoice_analyzer\"\n",
        "# ANALYZER_ID = \"analyzer-management-sample-\" + str(uuid.uuid4())\n",
        "\n",
        "response = client.begin_create_analyzer(ANALYZER_ID, analyzer_template_path=ANALYZER_TEMPLATE)\n",
        "result = client.poll_result(response)\n",
        "\n",
        "print(json.dumps(result, indent=2))"
      ],
      "outputs": [
        {
          "output_type": "stream",
          "name": "stderr",
          "text": "INFO:python.content_understanding_client:Analyzer my_invoice_analyzer create request accepted.\nINFO:python.content_understanding_client:Request 196099c2-656b-41da-8306-13c5b66fde82 in progress ...\nINFO:python.content_understanding_client:Request 196099c2-656b-41da-8306-13c5b66fde82 in progress ...\nINFO:python.content_understanding_client:Request 196099c2-656b-41da-8306-13c5b66fde82 in progress ...\n"
        },
        {
          "output_type": "stream",
          "name": "stdout",
          "text": "{\n  \"id\": \"196099c2-656b-41da-8306-13c5b66fde82\",\n  \"status\": \"Succeeded\",\n  \"result\": {\n    \"analyzerId\": \"my_invoice_analyzer\",\n    \"description\": \"Sample invoice analyzer\",\n    \"createdAt\": \"2025-04-10T15:18:00Z\",\n    \"lastModifiedAt\": \"2025-04-10T15:18:06Z\",\n    \"config\": {\n      \"returnDetails\": true,\n      \"enableOcr\": true,\n      \"enableLayout\": true,\n      \"enableBarcode\": false,\n      \"enableFormula\": false,\n      \"disableContentFiltering\": false\n    },\n    \"fieldSchema\": {\n      \"fields\": {\n        \"VendorName\": {\n          \"type\": \"string\",\n          \"method\": \"extract\",\n          \"description\": \"Vendor issuing the invoice\"\n        },\n        \"Items\": {\n          \"type\": \"array\",\n          \"method\": \"extract\",\n          \"items\": {\n            \"type\": \"object\",\n            \"properties\": {\n              \"Description\": {\n                \"type\": \"string\",\n                \"method\": \"extract\",\n                \"description\": \"Description of the item\"\n              },\n              \"Amount\": {\n                \"type\": \"number\",\n                \"method\": \"extract\",\n                \"description\": \"Amount of the item\"\n              }\n            }\n          }\n        }\n      }\n    },\n    \"warnings\": [],\n    \"status\": \"ready\",\n    \"scenario\": \"document\"\n  }\n}\n"
        }
      ],
      "execution_count": 40,
      "metadata": {
        "gather": {
          "logged": 1744298288814
        }
      }
    },
    {
      "cell_type": "markdown",
      "source": [
        "## List all analyzers created in your resource"
      ],
      "metadata": {}
    },
    {
      "cell_type": "markdown",
      "source": [
        "After the analyzer is successfully created, we can use it to analyze our input files."
      ],
      "metadata": {}
    },
    {
      "cell_type": "code",
      "source": [
        "all_analyzers = client.get_all_analyzers()\n",
        "print(f\"Number of analyzers in your resource: {len(all_analyzers['value'])}\")\n",
        "print(f\"First 3 analyzer details: {json.dumps(all_analyzers['value'][:3], indent=2)}\")"
      ],
      "outputs": [
        {
          "output_type": "stream",
          "name": "stdout",
          "text": "Number of analyzers in your resource: 4\nFirst 3 analyzer details: [\n  {\n    \"analyzerId\": \"prebuilt-read\",\n    \"description\": \"Extract content elements such as words, barcodes, and formulas from documents.\",\n    \"config\": {\n      \"returnDetails\": true,\n      \"enableOcr\": true,\n      \"enableLayout\": false,\n      \"enableBarcode\": false,\n      \"enableFormula\": false\n    },\n    \"warnings\": [],\n    \"status\": \"undefined\",\n    \"scenario\": \"document\"\n  },\n  {\n    \"analyzerId\": \"prebuilt-layout\",\n    \"description\": \"Extract various content and layout elements such as words, paragraphs, and tables from documents.\",\n    \"config\": {\n      \"returnDetails\": true,\n      \"enableOcr\": true,\n      \"enableLayout\": true,\n      \"enableBarcode\": false,\n      \"enableFormula\": false\n    },\n    \"warnings\": [],\n    \"status\": \"undefined\",\n    \"scenario\": \"document\"\n  },\n  {\n    \"analyzerId\": \"analyzer-management-sample-a706ced3-c0c1-4603-b1bc-d560c3fec847\",\n    \"description\": \"Sample invoice analyzer\",\n    \"createdAt\": \"2025-04-10T15:15:27Z\",\n    \"lastModifiedAt\": \"2025-04-10T15:15:31Z\",\n    \"config\": {\n      \"returnDetails\": true,\n      \"enableOcr\": true,\n      \"enableLayout\": true,\n      \"enableBarcode\": false,\n      \"enableFormula\": false,\n      \"disableContentFiltering\": false\n    },\n    \"fieldSchema\": {\n      \"fields\": {\n        \"VendorName\": {\n          \"type\": \"string\",\n          \"method\": \"extract\",\n          \"description\": \"Vendor issuing the invoice\"\n        },\n        \"Items\": {\n          \"type\": \"array\",\n          \"method\": \"extract\",\n          \"items\": {\n            \"type\": \"object\",\n            \"properties\": {\n              \"Description\": {\n                \"type\": \"string\",\n                \"method\": \"extract\",\n                \"description\": \"Description of the item\"\n              },\n              \"Amount\": {\n                \"type\": \"number\",\n                \"method\": \"extract\",\n                \"description\": \"Amount of the item\"\n              }\n            }\n          }\n        }\n      }\n    },\n    \"warnings\": [],\n    \"status\": \"ready\",\n    \"scenario\": \"document\"\n  }\n]\n"
        }
      ],
      "execution_count": 37,
      "metadata": {
        "gather": {
          "logged": 1744298213620
        }
      }
    },
    {
      "cell_type": "code",
      "source": [
        "import pandas as pd\n",
        "df_analyzers = pd.json_normalize(all_analyzers['value'])\n",
        "df_analyzers_sorted = df_analyzers.sort_values(by='createdAt', ascending=True)\n",
        "df_analyzers_sorted"
      ],
      "outputs": [
        {
          "output_type": "execute_result",
          "execution_count": 38,
          "data": {
            "text/plain": "                                          analyzerId  \\\n3                                my_invoice_analyzer   \n2  analyzer-management-sample-a706ced3-c0c1-4603-...   \n0                                      prebuilt-read   \n1                                    prebuilt-layout   \n\n                                         description warnings     status  \\\n3                    Sample call recording analytics       []      ready   \n2                            Sample invoice analyzer       []      ready   \n0  Extract content elements such as words, barcod...       []  undefined   \n1  Extract various content and layout elements su...       []  undefined   \n\n     scenario  config.returnDetails config.enableOcr config.enableLayout  \\\n3  callCenter                  True              NaN                 NaN   \n2    document                  True             True                True   \n0    document                  True             True               False   \n1    document                  True             True                True   \n\n  config.enableBarcode config.enableFormula  ...  \\\n3                  NaN                  NaN  ...   \n2                False                False  ...   \n0                False                False  ...   \n1                False                False  ...   \n\n  fieldSchema.fields.People.items.properties.Role.description  \\\n3                                Person's title/role            \n2                                                NaN            \n0                                                NaN            \n1                                                NaN            \n\n  fieldSchema.fields.Sentiment.type fieldSchema.fields.Sentiment.method  \\\n3                            string                            classify   \n2                               NaN                                 NaN   \n0                               NaN                                 NaN   \n1                               NaN                                 NaN   \n\n  fieldSchema.fields.Sentiment.description fieldSchema.fields.Sentiment.enum  \\\n3                        Overall sentiment     [Positive, Neutral, Negative]   \n2                                      NaN                               NaN   \n0                                      NaN                               NaN   \n1                                      NaN                               NaN   \n\n  fieldSchema.fields.Categories.type fieldSchema.fields.Categories.method  \\\n3                              array                             classify   \n2                                NaN                                  NaN   \n0                                NaN                                  NaN   \n1                                NaN                                  NaN   \n\n  fieldSchema.fields.Categories.description  \\\n3               List of relevant categories   \n2                                       NaN   \n0                                       NaN   \n1                                       NaN   \n\n  fieldSchema.fields.Categories.items.type  \\\n3                                   string   \n2                                      NaN   \n0                                      NaN   \n1                                      NaN   \n\n            fieldSchema.fields.Categories.items.enum  \n3  [Agriculture, Business, Finance, Health, Insur...  \n2                                                NaN  \n0                                                NaN  \n1                                                NaN  \n\n[4 rows x 54 columns]",
            "text/html": "<div>\n<style scoped>\n    .dataframe tbody tr th:only-of-type {\n        vertical-align: middle;\n    }\n\n    .dataframe tbody tr th {\n        vertical-align: top;\n    }\n\n    .dataframe thead th {\n        text-align: right;\n    }\n</style>\n<table border=\"1\" class=\"dataframe\">\n  <thead>\n    <tr style=\"text-align: right;\">\n      <th></th>\n      <th>analyzerId</th>\n      <th>description</th>\n      <th>warnings</th>\n      <th>status</th>\n      <th>scenario</th>\n      <th>config.returnDetails</th>\n      <th>config.enableOcr</th>\n      <th>config.enableLayout</th>\n      <th>config.enableBarcode</th>\n      <th>config.enableFormula</th>\n      <th>...</th>\n      <th>fieldSchema.fields.People.items.properties.Role.description</th>\n      <th>fieldSchema.fields.Sentiment.type</th>\n      <th>fieldSchema.fields.Sentiment.method</th>\n      <th>fieldSchema.fields.Sentiment.description</th>\n      <th>fieldSchema.fields.Sentiment.enum</th>\n      <th>fieldSchema.fields.Categories.type</th>\n      <th>fieldSchema.fields.Categories.method</th>\n      <th>fieldSchema.fields.Categories.description</th>\n      <th>fieldSchema.fields.Categories.items.type</th>\n      <th>fieldSchema.fields.Categories.items.enum</th>\n    </tr>\n  </thead>\n  <tbody>\n    <tr>\n      <th>3</th>\n      <td>my_invoice_analyzer</td>\n      <td>Sample call recording analytics</td>\n      <td>[]</td>\n      <td>ready</td>\n      <td>callCenter</td>\n      <td>True</td>\n      <td>NaN</td>\n      <td>NaN</td>\n      <td>NaN</td>\n      <td>NaN</td>\n      <td>...</td>\n      <td>Person's title/role</td>\n      <td>string</td>\n      <td>classify</td>\n      <td>Overall sentiment</td>\n      <td>[Positive, Neutral, Negative]</td>\n      <td>array</td>\n      <td>classify</td>\n      <td>List of relevant categories</td>\n      <td>string</td>\n      <td>[Agriculture, Business, Finance, Health, Insur...</td>\n    </tr>\n    <tr>\n      <th>2</th>\n      <td>analyzer-management-sample-a706ced3-c0c1-4603-...</td>\n      <td>Sample invoice analyzer</td>\n      <td>[]</td>\n      <td>ready</td>\n      <td>document</td>\n      <td>True</td>\n      <td>True</td>\n      <td>True</td>\n      <td>False</td>\n      <td>False</td>\n      <td>...</td>\n      <td>NaN</td>\n      <td>NaN</td>\n      <td>NaN</td>\n      <td>NaN</td>\n      <td>NaN</td>\n      <td>NaN</td>\n      <td>NaN</td>\n      <td>NaN</td>\n      <td>NaN</td>\n      <td>NaN</td>\n    </tr>\n    <tr>\n      <th>0</th>\n      <td>prebuilt-read</td>\n      <td>Extract content elements such as words, barcod...</td>\n      <td>[]</td>\n      <td>undefined</td>\n      <td>document</td>\n      <td>True</td>\n      <td>True</td>\n      <td>False</td>\n      <td>False</td>\n      <td>False</td>\n      <td>...</td>\n      <td>NaN</td>\n      <td>NaN</td>\n      <td>NaN</td>\n      <td>NaN</td>\n      <td>NaN</td>\n      <td>NaN</td>\n      <td>NaN</td>\n      <td>NaN</td>\n      <td>NaN</td>\n      <td>NaN</td>\n    </tr>\n    <tr>\n      <th>1</th>\n      <td>prebuilt-layout</td>\n      <td>Extract various content and layout elements su...</td>\n      <td>[]</td>\n      <td>undefined</td>\n      <td>document</td>\n      <td>True</td>\n      <td>True</td>\n      <td>True</td>\n      <td>False</td>\n      <td>False</td>\n      <td>...</td>\n      <td>NaN</td>\n      <td>NaN</td>\n      <td>NaN</td>\n      <td>NaN</td>\n      <td>NaN</td>\n      <td>NaN</td>\n      <td>NaN</td>\n      <td>NaN</td>\n      <td>NaN</td>\n      <td>NaN</td>\n    </tr>\n  </tbody>\n</table>\n<p>4 rows × 54 columns</p>\n</div>"
          },
          "metadata": {}
        }
      ],
      "execution_count": 38,
      "metadata": {
        "gather": {
          "logged": 1744298232532
        }
      }
    },
    {
      "cell_type": "markdown",
      "source": [
        "## Get analyzer details with id\n",
        "\n",
        "Remember the analyzer id when you create it. You can use the id to look up detail analyzer definitions afterwards."
      ],
      "metadata": {}
    },
    {
      "cell_type": "code",
      "source": [
        "result = client.get_analyzer_detail_by_id(ANALYZER_ID)\n",
        "print(json.dumps(result, indent=2))"
      ],
      "outputs": [
        {
          "output_type": "stream",
          "name": "stdout",
          "text": "{\n  \"analyzerId\": \"analyzer-management-sample-3d7b2f34-bde3-44de-bddf-ab506efd01e1\",\n  \"description\": \"Sample call recording analytics\",\n  \"createdAt\": \"2025-04-10T14:49:52Z\",\n  \"lastModifiedAt\": \"2025-04-10T14:49:52Z\",\n  \"config\": {\n    \"locales\": [\n      \"en-US\"\n    ],\n    \"returnDetails\": true,\n    \"disableContentFiltering\": false\n  },\n  \"fieldSchema\": {\n    \"fields\": {\n      \"Summary\": {\n        \"type\": \"string\",\n        \"method\": \"generate\",\n        \"description\": \"A one-paragraph summary\"\n      },\n      \"Topics\": {\n        \"type\": \"array\",\n        \"method\": \"generate\",\n        \"description\": \"Top 5 topics mentioned\",\n        \"items\": {\n          \"type\": \"string\"\n        }\n      },\n      \"Companies\": {\n        \"type\": \"array\",\n        \"method\": \"generate\",\n        \"description\": \"List of companies mentioned\",\n        \"items\": {\n          \"type\": \"string\"\n        }\n      },\n      \"People\": {\n        \"type\": \"array\",\n        \"method\": \"generate\",\n        \"description\": \"List of people mentioned\",\n        \"items\": {\n          \"type\": \"object\",\n          \"properties\": {\n            \"Name\": {\n              \"type\": \"string\",\n              \"description\": \"Person's name\"\n            },\n            \"Role\": {\n              \"type\": \"string\",\n              \"description\": \"Person's title/role\"\n            }\n          }\n        }\n      },\n      \"Sentiment\": {\n        \"type\": \"string\",\n        \"method\": \"classify\",\n        \"description\": \"Overall sentiment\",\n        \"enum\": [\n          \"Positive\",\n          \"Neutral\",\n          \"Negative\"\n        ]\n      },\n      \"Categories\": {\n        \"type\": \"array\",\n        \"method\": \"classify\",\n        \"description\": \"List of relevant categories\",\n        \"items\": {\n          \"type\": \"string\",\n          \"enum\": [\n            \"Agriculture\",\n            \"Business\",\n            \"Finance\",\n            \"Health\",\n            \"Insurance\",\n            \"Mining\",\n            \"Pharmaceutical\",\n            \"Retail\",\n            \"Technology\",\n            \"Transportation\"\n          ]\n        }\n      }\n    }\n  },\n  \"warnings\": [],\n  \"status\": \"ready\",\n  \"scenario\": \"callCenter\"\n}\n"
        }
      ],
      "execution_count": 12,
      "metadata": {
        "gather": {
          "logged": 1744296640864
        }
      }
    },
    {
      "cell_type": "markdown",
      "source": [
        "## Delete Analyzer\n",
        "If you don't need an analyzer anymore, delete it with its id."
      ],
      "metadata": {}
    },
    {
      "cell_type": "code",
      "source": [
        "client.delete_analyzer(ANALYZER_ID)"
      ],
      "outputs": [
        {
          "output_type": "stream",
          "name": "stderr",
          "text": "INFO:python.content_understanding_client:Analyzer analyzer-management-sample-3d7b2f34-bde3-44de-bddf-ab506efd01e1 deleted.\n"
        },
        {
          "output_type": "execute_result",
          "execution_count": 13,
          "data": {
            "text/plain": "<Response [204]>"
          },
          "metadata": {}
        }
      ],
      "execution_count": 13,
      "metadata": {
        "gather": {
          "logged": 1744296644034
        }
      }
    },
    {
      "cell_type": "code",
      "source": [
        "client.delete_analyzer(\"my_invoice_analyzer\")"
      ],
      "outputs": [
        {
          "output_type": "stream",
          "name": "stderr",
          "text": "INFO:python.content_understanding_client:Analyzer my_invoice_analyzer deleted.\n"
        },
        {
          "output_type": "execute_result",
          "execution_count": 39,
          "data": {
            "text/plain": "<Response [204]>"
          },
          "metadata": {}
        }
      ],
      "execution_count": 39,
      "metadata": {
        "gather": {
          "logged": 1744298251941
        }
      }
    }
  ],
  "metadata": {
    "kernel_info": {
      "name": "my_env"
    },
    "kernelspec": {
      "name": "my_env",
      "language": "python",
      "display_name": "my_env"
    },
    "language_info": {
      "name": "python",
      "version": "3.10.16",
      "mimetype": "text/x-python",
      "codemirror_mode": {
        "name": "ipython",
        "version": 3
      },
      "pygments_lexer": "ipython3",
      "nbconvert_exporter": "python",
      "file_extension": ".py"
    },
    "microsoft": {
      "ms_spell_check": {
        "ms_spell_check_language": "en"
      },
      "host": {
        "AzureML": {
          "notebookHasBeenCompleted": true
        }
      }
    },
    "nteract": {
      "version": "nteract-front-end@1.0.0"
    }
  },
  "nbformat": 4,
  "nbformat_minor": 2
}