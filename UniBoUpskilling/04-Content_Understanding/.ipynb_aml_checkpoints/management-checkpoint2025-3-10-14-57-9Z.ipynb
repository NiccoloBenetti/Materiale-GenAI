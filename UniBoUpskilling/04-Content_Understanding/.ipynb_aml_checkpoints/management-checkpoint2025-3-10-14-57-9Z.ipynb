{
  "cells": [
    {
      "cell_type": "markdown",
      "source": [
        "# Manage Analyzers in Your Resource"
      ],
      "metadata": {}
    },
    {
      "cell_type": "markdown",
      "source": [
        "This notebook demo how to create a simple analyzer and manage its lifecycle.\n",
        "\n",
        "Source: https://github.com/Azure-Samples/azure-ai-content-understanding-python.git"
      ],
      "metadata": {}
    },
    {
      "cell_type": "markdown",
      "source": [
        "## Create Azure AI Content Understanding Client\n",
        "\n",
        "> The [AzureContentUnderstandingClient](python/content_understanding_client.py) is a utility class containing functions to interact with the Content Understanding API. \n",
        "\n",
        "\n",
        "Before the official release of the Content Understanding SDK, it can be regarded as a lightweight SDK.\n"
      ],
      "metadata": {}
    },
    {
      "cell_type": "code",
      "source": [
        "import logging\n",
        "import json\n",
        "import os\n",
        "import sys\n",
        "from pathlib import Path\n",
        "from dotenv import find_dotenv, load_dotenv\n",
        "from azure.identity import DefaultAzureCredential, get_bearer_token_provider"
      ],
      "outputs": [],
      "execution_count": 1,
      "metadata": {
        "gather": {
          "logged": 1744296921328
        }
      }
    },
    {
      "cell_type": "code",
      "source": [
        "load_dotenv(dotenv_path='../infra/credentials.env', override=True)"
      ],
      "outputs": [
        {
          "output_type": "execute_result",
          "execution_count": 2,
          "data": {
            "text/plain": "True"
          },
          "metadata": {}
        }
      ],
      "execution_count": 2,
      "metadata": {
        "gather": {
          "logged": 1744296921482
        }
      }
    },
    {
      "cell_type": "code",
      "source": [
        "logging.basicConfig(level=logging.INFO)"
      ],
      "outputs": [],
      "execution_count": 3,
      "metadata": {
        "gather": {
          "logged": 1744296921611
        }
      }
    },
    {
      "cell_type": "code",
      "source": [
        "AZURE_AI_ENDPOINT = os.getenv(\"AZURE_CU_ENDPOINT\")\n",
        "AZURE_AI_API_VERSION = os.getenv(\"AZURE_CU_API_VERSION\", \"2024-12-01-preview\")\n",
        "print(f\"Current Azure Content Understanding endpoint: {AZURE_AI_ENDPOINT}\")\n",
        "print(f\"Current Azure Content Understanding API version: {AZURE_AI_API_VERSION}\")"
      ],
      "outputs": [
        {
          "output_type": "stream",
          "name": "stdout",
          "text": "Current Azure Content Understanding endpoint: https://ai-aifoundryupskillinghub687267079310.services.ai.azure.com/\nCurrent Azure Content Understanding API version: 2024-12-01-preview\n"
        }
      ],
      "execution_count": 4,
      "metadata": {
        "gather": {
          "logged": 1744296921731
        }
      }
    },
    {
      "cell_type": "code",
      "source": [
        "# only if necessary, add the parent directory to the path to use shared modules\n",
        "# parent_dir = Path(Path.cwd()).parent\n",
        "# sys.path.append(str(parent_dir))\n",
        "\n",
        "# import the utility class AzureContentUnderstandingClient, which is a wrapper around the Azure Content Understanding REST API client\n",
        "from python.content_understanding_client import AzureContentUnderstandingClient"
      ],
      "outputs": [],
      "execution_count": 5,
      "metadata": {
        "gather": {
          "logged": 1744296921861
        }
      }
    },
    {
      "cell_type": "code",
      "source": [
        "credential = DefaultAzureCredential()\n",
        "token_provider = get_bearer_token_provider(credential, \"https://cognitiveservices.azure.com/.default\")"
      ],
      "outputs": [
        {
          "output_type": "stream",
          "name": "stderr",
          "text": "INFO:azure.identity._credentials.environment:No environment configuration found.\nINFO:azure.identity._credentials.managed_identity:ManagedIdentityCredential will use Azure ML managed identity\n"
        }
      ],
      "execution_count": 6,
      "metadata": {
        "gather": {
          "logged": 1744296921986
        }
      }
    },
    {
      "cell_type": "code",
      "source": [
        "client = AzureContentUnderstandingClient(\n",
        "    endpoint=AZURE_AI_ENDPOINT,\n",
        "    api_version=AZURE_AI_API_VERSION,\n",
        "    token_provider=token_provider,\n",
        "    x_ms_useragent=\"azure-ai-content-understanding-python/analyzer_management\", # This header is used for sample usage telemetry, please comment out this line if you want to opt out.\n",
        ")"
      ],
      "outputs": [
        {
          "output_type": "stream",
          "name": "stderr",
          "text": "INFO:azure.core.pipeline.policies.http_logging_policy:Request URL: 'http://127.0.0.1:46808/MSI/auth?api-version=REDACTED&resource=REDACTED'\nRequest method: 'GET'\nRequest headers:\n    'secret': 'REDACTED'\n    'User-Agent': 'azsdk-python-identity/1.21.0 Python/3.10.16 (Linux-5.15.0-1073-azure-x86_64-with-glibc2.31)'\nNo body was attached to the request\nINFO:azure.core.pipeline.policies.http_logging_policy:Response status: 200\nResponse headers:\n    'Content-Type': 'application/json'\n    'Date': 'Thu, 10 Apr 2025 14:55:19 GMT'\n    'Transfer-Encoding': 'chunked'\nINFO:azure.identity._credentials.chained:DefaultAzureCredential acquired a token from ManagedIdentityCredential\n"
        }
      ],
      "execution_count": 7,
      "metadata": {
        "gather": {
          "logged": 1744296922109
        }
      }
    },
    {
      "cell_type": "markdown",
      "source": [
        "## Create a simple analyzer\n",
        "We first create an analyzer from a template to extract invoice fields."
      ],
      "metadata": {}
    },
    {
      "cell_type": "code",
      "source": [
        "import uuid\n",
        "\n",
        "ANALYZER_TEMPLATE = \"analyzer_templates/my_invoice_analyzer_template.json\"\n",
        "# ANALYZER_ID = \"my_invoice_analyzer\"\n",
        "ANALYZER_ID = \"analyzer-management-sample-\" + str(uuid.uuid4())\n",
        "\n",
        "response = client.begin_create_analyzer(ANALYZER_ID, analyzer_template_path=ANALYZER_TEMPLATE)\n",
        "result = client.poll_result(response)\n",
        "\n",
        "print(json.dumps(result, indent=2))"
      ],
      "outputs": [
        {
          "output_type": "error",
          "ename": "HTTPError",
          "evalue": "400 Client Error: Bad Request for url: https://ai-aifoundryupskillinghub687267079310.services.ai.azure.com/contentunderstanding/analyzers/analyzer-management-sample-c98033e2-6780-41fc-b70b-412a08bf744d?api-version=2024-12-01-preview",
          "traceback": [
            "\u001b[0;31m---------------------------------------------------------------------------\u001b[0m",
            "\u001b[0;31mHTTPError\u001b[0m                                 Traceback (most recent call last)",
            "Cell \u001b[0;32mIn[11], line 7\u001b[0m\n\u001b[1;32m      4\u001b[0m \u001b[38;5;66;03m# ANALYZER_ID = \"my_invoice_analyzer\"\u001b[39;00m\n\u001b[1;32m      5\u001b[0m ANALYZER_ID \u001b[38;5;241m=\u001b[39m \u001b[38;5;124m\"\u001b[39m\u001b[38;5;124manalyzer-management-sample-\u001b[39m\u001b[38;5;124m\"\u001b[39m \u001b[38;5;241m+\u001b[39m \u001b[38;5;28mstr\u001b[39m(uuid\u001b[38;5;241m.\u001b[39muuid4())\n\u001b[0;32m----> 7\u001b[0m response \u001b[38;5;241m=\u001b[39m \u001b[43mclient\u001b[49m\u001b[38;5;241;43m.\u001b[39;49m\u001b[43mbegin_create_analyzer\u001b[49m\u001b[43m(\u001b[49m\u001b[43mANALYZER_ID\u001b[49m\u001b[43m,\u001b[49m\u001b[43m \u001b[49m\u001b[43manalyzer_template_path\u001b[49m\u001b[38;5;241;43m=\u001b[39;49m\u001b[43mANALYZER_TEMPLATE\u001b[49m\u001b[43m)\u001b[49m\n\u001b[1;32m      8\u001b[0m result \u001b[38;5;241m=\u001b[39m client\u001b[38;5;241m.\u001b[39mpoll_result(response)\n\u001b[1;32m     10\u001b[0m \u001b[38;5;28mprint\u001b[39m(json\u001b[38;5;241m.\u001b[39mdumps(result, indent\u001b[38;5;241m=\u001b[39m\u001b[38;5;241m2\u001b[39m))\n",
            "File \u001b[0;32m/mnt/batch/tasks/shared/LS_root/mounts/clusters/epiccin-compute/code/Users/abutneva/UniBoUpskilling/04-Content_Understanding/python/content_understanding_client.py:160\u001b[0m, in \u001b[0;36mAzureContentUnderstandingClient.begin_create_analyzer\u001b[0;34m(self, analyzer_id, analyzer_template, analyzer_template_path, training_storage_container_sas_url, training_storage_container_path_prefix)\u001b[0m\n\u001b[1;32m    153\u001b[0m headers\u001b[38;5;241m.\u001b[39mupdate(\u001b[38;5;28mself\u001b[39m\u001b[38;5;241m.\u001b[39m_headers)\n\u001b[1;32m    155\u001b[0m response \u001b[38;5;241m=\u001b[39m requests\u001b[38;5;241m.\u001b[39mput(\n\u001b[1;32m    156\u001b[0m     url\u001b[38;5;241m=\u001b[39m\u001b[38;5;28mself\u001b[39m\u001b[38;5;241m.\u001b[39m_get_analyzer_url(\u001b[38;5;28mself\u001b[39m\u001b[38;5;241m.\u001b[39m_endpoint, \u001b[38;5;28mself\u001b[39m\u001b[38;5;241m.\u001b[39m_api_version, analyzer_id),\n\u001b[1;32m    157\u001b[0m     headers\u001b[38;5;241m=\u001b[39mheaders,\n\u001b[1;32m    158\u001b[0m     json\u001b[38;5;241m=\u001b[39manalyzer_template,\n\u001b[1;32m    159\u001b[0m )\n\u001b[0;32m--> 160\u001b[0m \u001b[43mresponse\u001b[49m\u001b[38;5;241;43m.\u001b[39;49m\u001b[43mraise_for_status\u001b[49m\u001b[43m(\u001b[49m\u001b[43m)\u001b[49m\n\u001b[1;32m    161\u001b[0m \u001b[38;5;28mself\u001b[39m\u001b[38;5;241m.\u001b[39m_logger\u001b[38;5;241m.\u001b[39minfo(\u001b[38;5;124mf\u001b[39m\u001b[38;5;124m\"\u001b[39m\u001b[38;5;124mAnalyzer \u001b[39m\u001b[38;5;132;01m{\u001b[39;00manalyzer_id\u001b[38;5;132;01m}\u001b[39;00m\u001b[38;5;124m create request accepted.\u001b[39m\u001b[38;5;124m\"\u001b[39m)\n\u001b[1;32m    162\u001b[0m \u001b[38;5;28;01mreturn\u001b[39;00m response\n",
            "File \u001b[0;32m/anaconda/envs/my_env/lib/python3.10/site-packages/requests/models.py:1024\u001b[0m, in \u001b[0;36mResponse.raise_for_status\u001b[0;34m(self)\u001b[0m\n\u001b[1;32m   1019\u001b[0m     http_error_msg \u001b[38;5;241m=\u001b[39m (\n\u001b[1;32m   1020\u001b[0m         \u001b[38;5;124mf\u001b[39m\u001b[38;5;124m\"\u001b[39m\u001b[38;5;132;01m{\u001b[39;00m\u001b[38;5;28mself\u001b[39m\u001b[38;5;241m.\u001b[39mstatus_code\u001b[38;5;132;01m}\u001b[39;00m\u001b[38;5;124m Server Error: \u001b[39m\u001b[38;5;132;01m{\u001b[39;00mreason\u001b[38;5;132;01m}\u001b[39;00m\u001b[38;5;124m for url: \u001b[39m\u001b[38;5;132;01m{\u001b[39;00m\u001b[38;5;28mself\u001b[39m\u001b[38;5;241m.\u001b[39murl\u001b[38;5;132;01m}\u001b[39;00m\u001b[38;5;124m\"\u001b[39m\n\u001b[1;32m   1021\u001b[0m     )\n\u001b[1;32m   1023\u001b[0m \u001b[38;5;28;01mif\u001b[39;00m http_error_msg:\n\u001b[0;32m-> 1024\u001b[0m     \u001b[38;5;28;01mraise\u001b[39;00m HTTPError(http_error_msg, response\u001b[38;5;241m=\u001b[39m\u001b[38;5;28mself\u001b[39m)\n",
            "\u001b[0;31mHTTPError\u001b[0m: 400 Client Error: Bad Request for url: https://ai-aifoundryupskillinghub687267079310.services.ai.azure.com/contentunderstanding/analyzers/analyzer-management-sample-c98033e2-6780-41fc-b70b-412a08bf744d?api-version=2024-12-01-preview"
          ]
        }
      ],
      "execution_count": 11,
      "metadata": {
        "gather": {
          "logged": 1744296976317
        }
      }
    },
    {
      "cell_type": "markdown",
      "source": [
        "## List all analyzers created in your resource"
      ],
      "metadata": {}
    },
    {
      "cell_type": "markdown",
      "source": [
        "After the analyzer is successfully created, we can use it to analyze our input files."
      ],
      "metadata": {}
    },
    {
      "cell_type": "code",
      "source": [
        "all_analyzers = client.get_all_analyzers()\n",
        "print(f\"Number of analyzers in your resource: {len(all_analyzers['value'])}\")\n",
        "print(f\"First 3 analyzer details: {json.dumps(all_analyzers['value'][:3], indent=2)}\")"
      ],
      "outputs": [
        {
          "output_type": "stream",
          "name": "stdout",
          "text": "Number of analyzers in your resource: 2\nFirst 3 analyzer details: [\n  {\n    \"analyzerId\": \"prebuilt-read\",\n    \"description\": \"Extract content elements such as words, barcodes, and formulas from documents.\",\n    \"config\": {\n      \"returnDetails\": true,\n      \"enableOcr\": true,\n      \"enableLayout\": false,\n      \"enableBarcode\": false,\n      \"enableFormula\": false\n    },\n    \"warnings\": [],\n    \"status\": \"undefined\",\n    \"scenario\": \"document\"\n  },\n  {\n    \"analyzerId\": \"prebuilt-layout\",\n    \"description\": \"Extract various content and layout elements such as words, paragraphs, and tables from documents.\",\n    \"config\": {\n      \"returnDetails\": true,\n      \"enableOcr\": true,\n      \"enableLayout\": true,\n      \"enableBarcode\": false,\n      \"enableFormula\": false\n    },\n    \"warnings\": [],\n    \"status\": \"undefined\",\n    \"scenario\": \"document\"\n  }\n]\n"
        }
      ],
      "execution_count": 9,
      "metadata": {
        "gather": {
          "logged": 1744296933489
        }
      }
    },
    {
      "cell_type": "code",
      "source": [
        "import pandas as pd\n",
        "df_analyzers = pd.json_normalize(all_analyzers['value'])\n",
        "df_analyzers_sorted = df_analyzers.sort_values(by='createdAt', ascending=True)\n",
        "df_analyzers_sorted"
      ],
      "outputs": [
        {
          "output_type": "error",
          "ename": "KeyError",
          "evalue": "'createdAt'",
          "traceback": [
            "\u001b[0;31m---------------------------------------------------------------------------\u001b[0m",
            "\u001b[0;31mKeyError\u001b[0m                                  Traceback (most recent call last)",
            "\u001b[0;32m/tmp/ipykernel_19442/2355130915.py\u001b[0m in \u001b[0;36m?\u001b[0;34m()\u001b[0m\n\u001b[1;32m      1\u001b[0m \u001b[0;32mimport\u001b[0m \u001b[0mpandas\u001b[0m \u001b[0;32mas\u001b[0m \u001b[0mpd\u001b[0m\u001b[0;34m\u001b[0m\u001b[0;34m\u001b[0m\u001b[0m\n\u001b[1;32m      2\u001b[0m \u001b[0mdf_analyzers\u001b[0m \u001b[0;34m=\u001b[0m \u001b[0mpd\u001b[0m\u001b[0;34m.\u001b[0m\u001b[0mjson_normalize\u001b[0m\u001b[0;34m(\u001b[0m\u001b[0mall_analyzers\u001b[0m\u001b[0;34m[\u001b[0m\u001b[0;34m'value'\u001b[0m\u001b[0;34m]\u001b[0m\u001b[0;34m)\u001b[0m\u001b[0;34m\u001b[0m\u001b[0;34m\u001b[0m\u001b[0m\n\u001b[0;32m----> 3\u001b[0;31m \u001b[0mdf_analyzers_sorted\u001b[0m \u001b[0;34m=\u001b[0m \u001b[0mdf_analyzers\u001b[0m\u001b[0;34m.\u001b[0m\u001b[0msort_values\u001b[0m\u001b[0;34m(\u001b[0m\u001b[0mby\u001b[0m\u001b[0;34m=\u001b[0m\u001b[0;34m'createdAt'\u001b[0m\u001b[0;34m,\u001b[0m \u001b[0mascending\u001b[0m\u001b[0;34m=\u001b[0m\u001b[0;32mTrue\u001b[0m\u001b[0;34m)\u001b[0m\u001b[0;34m\u001b[0m\u001b[0;34m\u001b[0m\u001b[0m\n\u001b[0m\u001b[1;32m      4\u001b[0m \u001b[0mdf_analyzers_sorted\u001b[0m\u001b[0;34m\u001b[0m\u001b[0;34m\u001b[0m\u001b[0m\n",
            "\u001b[0;32m/anaconda/envs/my_env/lib/python3.10/site-packages/pandas/core/frame.py\u001b[0m in \u001b[0;36m?\u001b[0;34m(self, by, axis, ascending, inplace, kind, na_position, ignore_index, key)\u001b[0m\n\u001b[1;32m   7185\u001b[0m             )\n\u001b[1;32m   7186\u001b[0m         \u001b[0;32melif\u001b[0m \u001b[0mlen\u001b[0m\u001b[0;34m(\u001b[0m\u001b[0mby\u001b[0m\u001b[0;34m)\u001b[0m\u001b[0;34m:\u001b[0m\u001b[0;34m\u001b[0m\u001b[0;34m\u001b[0m\u001b[0m\n\u001b[1;32m   7187\u001b[0m             \u001b[0;31m# len(by) == 1\u001b[0m\u001b[0;34m\u001b[0m\u001b[0;34m\u001b[0m\u001b[0m\n\u001b[1;32m   7188\u001b[0m \u001b[0;34m\u001b[0m\u001b[0m\n\u001b[0;32m-> 7189\u001b[0;31m             \u001b[0mk\u001b[0m \u001b[0;34m=\u001b[0m \u001b[0mself\u001b[0m\u001b[0;34m.\u001b[0m\u001b[0m_get_label_or_level_values\u001b[0m\u001b[0;34m(\u001b[0m\u001b[0mby\u001b[0m\u001b[0;34m[\u001b[0m\u001b[0;36m0\u001b[0m\u001b[0;34m]\u001b[0m\u001b[0;34m,\u001b[0m \u001b[0maxis\u001b[0m\u001b[0;34m=\u001b[0m\u001b[0maxis\u001b[0m\u001b[0;34m)\u001b[0m\u001b[0;34m\u001b[0m\u001b[0;34m\u001b[0m\u001b[0m\n\u001b[0m\u001b[1;32m   7190\u001b[0m \u001b[0;34m\u001b[0m\u001b[0m\n\u001b[1;32m   7191\u001b[0m             \u001b[0;31m# need to rewrap column in Series to apply key function\u001b[0m\u001b[0;34m\u001b[0m\u001b[0;34m\u001b[0m\u001b[0m\n\u001b[1;32m   7192\u001b[0m             \u001b[0;32mif\u001b[0m \u001b[0mkey\u001b[0m \u001b[0;32mis\u001b[0m \u001b[0;32mnot\u001b[0m \u001b[0;32mNone\u001b[0m\u001b[0;34m:\u001b[0m\u001b[0;34m\u001b[0m\u001b[0;34m\u001b[0m\u001b[0m\n",
            "\u001b[0;32m/anaconda/envs/my_env/lib/python3.10/site-packages/pandas/core/generic.py\u001b[0m in \u001b[0;36m?\u001b[0;34m(self, key, axis)\u001b[0m\n\u001b[1;32m   1907\u001b[0m             \u001b[0mvalues\u001b[0m \u001b[0;34m=\u001b[0m \u001b[0mself\u001b[0m\u001b[0;34m.\u001b[0m\u001b[0mxs\u001b[0m\u001b[0;34m(\u001b[0m\u001b[0mkey\u001b[0m\u001b[0;34m,\u001b[0m \u001b[0maxis\u001b[0m\u001b[0;34m=\u001b[0m\u001b[0mother_axes\u001b[0m\u001b[0;34m[\u001b[0m\u001b[0;36m0\u001b[0m\u001b[0;34m]\u001b[0m\u001b[0;34m)\u001b[0m\u001b[0;34m.\u001b[0m\u001b[0m_values\u001b[0m\u001b[0;34m\u001b[0m\u001b[0;34m\u001b[0m\u001b[0m\n\u001b[1;32m   1908\u001b[0m         \u001b[0;32melif\u001b[0m \u001b[0mself\u001b[0m\u001b[0;34m.\u001b[0m\u001b[0m_is_level_reference\u001b[0m\u001b[0;34m(\u001b[0m\u001b[0mkey\u001b[0m\u001b[0;34m,\u001b[0m \u001b[0maxis\u001b[0m\u001b[0;34m=\u001b[0m\u001b[0maxis\u001b[0m\u001b[0;34m)\u001b[0m\u001b[0;34m:\u001b[0m\u001b[0;34m\u001b[0m\u001b[0;34m\u001b[0m\u001b[0m\n\u001b[1;32m   1909\u001b[0m             \u001b[0mvalues\u001b[0m \u001b[0;34m=\u001b[0m \u001b[0mself\u001b[0m\u001b[0;34m.\u001b[0m\u001b[0maxes\u001b[0m\u001b[0;34m[\u001b[0m\u001b[0maxis\u001b[0m\u001b[0;34m]\u001b[0m\u001b[0;34m.\u001b[0m\u001b[0mget_level_values\u001b[0m\u001b[0;34m(\u001b[0m\u001b[0mkey\u001b[0m\u001b[0;34m)\u001b[0m\u001b[0;34m.\u001b[0m\u001b[0m_values\u001b[0m\u001b[0;34m\u001b[0m\u001b[0;34m\u001b[0m\u001b[0m\n\u001b[1;32m   1910\u001b[0m         \u001b[0;32melse\u001b[0m\u001b[0;34m:\u001b[0m\u001b[0;34m\u001b[0m\u001b[0;34m\u001b[0m\u001b[0m\n\u001b[0;32m-> 1911\u001b[0;31m             \u001b[0;32mraise\u001b[0m \u001b[0mKeyError\u001b[0m\u001b[0;34m(\u001b[0m\u001b[0mkey\u001b[0m\u001b[0;34m)\u001b[0m\u001b[0;34m\u001b[0m\u001b[0;34m\u001b[0m\u001b[0m\n\u001b[0m\u001b[1;32m   1912\u001b[0m \u001b[0;34m\u001b[0m\u001b[0m\n\u001b[1;32m   1913\u001b[0m         \u001b[0;31m# Check for duplicates\u001b[0m\u001b[0;34m\u001b[0m\u001b[0;34m\u001b[0m\u001b[0m\n\u001b[1;32m   1914\u001b[0m         \u001b[0;32mif\u001b[0m \u001b[0mvalues\u001b[0m\u001b[0;34m.\u001b[0m\u001b[0mndim\u001b[0m \u001b[0;34m>\u001b[0m \u001b[0;36m1\u001b[0m\u001b[0;34m:\u001b[0m\u001b[0;34m\u001b[0m\u001b[0;34m\u001b[0m\u001b[0m\n",
            "\u001b[0;31mKeyError\u001b[0m: 'createdAt'"
          ]
        }
      ],
      "execution_count": 10,
      "metadata": {
        "gather": {
          "logged": 1744296936838
        }
      }
    },
    {
      "cell_type": "markdown",
      "source": [
        "## Get analyzer details with id\n",
        "\n",
        "Remember the analyzer id when you create it. You can use the id to look up detail analyzer definitions afterwards."
      ],
      "metadata": {}
    },
    {
      "cell_type": "code",
      "source": [
        "result = client.get_analyzer_detail_by_id(ANALYZER_ID)\n",
        "print(json.dumps(result, indent=2))"
      ],
      "outputs": [
        {
          "output_type": "stream",
          "name": "stdout",
          "text": "{\n  \"analyzerId\": \"analyzer-management-sample-3d7b2f34-bde3-44de-bddf-ab506efd01e1\",\n  \"description\": \"Sample call recording analytics\",\n  \"createdAt\": \"2025-04-10T14:49:52Z\",\n  \"lastModifiedAt\": \"2025-04-10T14:49:52Z\",\n  \"config\": {\n    \"locales\": [\n      \"en-US\"\n    ],\n    \"returnDetails\": true,\n    \"disableContentFiltering\": false\n  },\n  \"fieldSchema\": {\n    \"fields\": {\n      \"Summary\": {\n        \"type\": \"string\",\n        \"method\": \"generate\",\n        \"description\": \"A one-paragraph summary\"\n      },\n      \"Topics\": {\n        \"type\": \"array\",\n        \"method\": \"generate\",\n        \"description\": \"Top 5 topics mentioned\",\n        \"items\": {\n          \"type\": \"string\"\n        }\n      },\n      \"Companies\": {\n        \"type\": \"array\",\n        \"method\": \"generate\",\n        \"description\": \"List of companies mentioned\",\n        \"items\": {\n          \"type\": \"string\"\n        }\n      },\n      \"People\": {\n        \"type\": \"array\",\n        \"method\": \"generate\",\n        \"description\": \"List of people mentioned\",\n        \"items\": {\n          \"type\": \"object\",\n          \"properties\": {\n            \"Name\": {\n              \"type\": \"string\",\n              \"description\": \"Person's name\"\n            },\n            \"Role\": {\n              \"type\": \"string\",\n              \"description\": \"Person's title/role\"\n            }\n          }\n        }\n      },\n      \"Sentiment\": {\n        \"type\": \"string\",\n        \"method\": \"classify\",\n        \"description\": \"Overall sentiment\",\n        \"enum\": [\n          \"Positive\",\n          \"Neutral\",\n          \"Negative\"\n        ]\n      },\n      \"Categories\": {\n        \"type\": \"array\",\n        \"method\": \"classify\",\n        \"description\": \"List of relevant categories\",\n        \"items\": {\n          \"type\": \"string\",\n          \"enum\": [\n            \"Agriculture\",\n            \"Business\",\n            \"Finance\",\n            \"Health\",\n            \"Insurance\",\n            \"Mining\",\n            \"Pharmaceutical\",\n            \"Retail\",\n            \"Technology\",\n            \"Transportation\"\n          ]\n        }\n      }\n    }\n  },\n  \"warnings\": [],\n  \"status\": \"ready\",\n  \"scenario\": \"callCenter\"\n}\n"
        }
      ],
      "execution_count": 12,
      "metadata": {
        "gather": {
          "logged": 1744296640864
        }
      }
    },
    {
      "cell_type": "markdown",
      "source": [
        "## Delete Analyzer\n",
        "If you don't need an analyzer anymore, delete it with its id."
      ],
      "metadata": {}
    },
    {
      "cell_type": "code",
      "source": [
        "client.delete_analyzer(ANALYZER_ID)"
      ],
      "outputs": [
        {
          "output_type": "stream",
          "name": "stderr",
          "text": "INFO:python.content_understanding_client:Analyzer analyzer-management-sample-3d7b2f34-bde3-44de-bddf-ab506efd01e1 deleted.\n"
        },
        {
          "output_type": "execute_result",
          "execution_count": 13,
          "data": {
            "text/plain": "<Response [204]>"
          },
          "metadata": {}
        }
      ],
      "execution_count": 13,
      "metadata": {
        "gather": {
          "logged": 1744296644034
        }
      }
    }
  ],
  "metadata": {
    "kernel_info": {
      "name": "my_env"
    },
    "kernelspec": {
      "name": "my_env",
      "language": "python",
      "display_name": "my_env"
    },
    "language_info": {
      "name": "python",
      "version": "3.10.16",
      "mimetype": "text/x-python",
      "codemirror_mode": {
        "name": "ipython",
        "version": 3
      },
      "pygments_lexer": "ipython3",
      "nbconvert_exporter": "python",
      "file_extension": ".py"
    },
    "microsoft": {
      "ms_spell_check": {
        "ms_spell_check_language": "en"
      },
      "host": {
        "AzureML": {
          "notebookHasBeenCompleted": true
        }
      }
    },
    "nteract": {
      "version": "nteract-front-end@1.0.0"
    }
  },
  "nbformat": 4,
  "nbformat_minor": 2
}