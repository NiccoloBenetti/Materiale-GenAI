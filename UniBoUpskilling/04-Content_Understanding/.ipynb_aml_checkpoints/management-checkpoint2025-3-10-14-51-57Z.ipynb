{
  "cells": [
    {
      "cell_type": "markdown",
      "source": [
        "# Manage Analyzers in Your Resource"
      ],
      "metadata": {}
    },
    {
      "cell_type": "markdown",
      "source": [
        "This notebook demo how to create a simple analyzer and manage its lifecycle.\n",
        "\n",
        "Source: https://github.com/Azure-Samples/azure-ai-content-understanding-python.git"
      ],
      "metadata": {}
    },
    {
      "cell_type": "markdown",
      "source": [
        "## Create Azure AI Content Understanding Client\n",
        "\n",
        "> The [AzureContentUnderstandingClient](python/content_understanding_client.py) is a utility class containing functions to interact with the Content Understanding API. \n",
        "\n",
        "\n",
        "Before the official release of the Content Understanding SDK, it can be regarded as a lightweight SDK.\n"
      ],
      "metadata": {}
    },
    {
      "cell_type": "code",
      "source": [
        "import logging\n",
        "import json\n",
        "import os\n",
        "import sys\n",
        "from pathlib import Path\n",
        "from dotenv import find_dotenv, load_dotenv\n",
        "from azure.identity import DefaultAzureCredential, get_bearer_token_provider"
      ],
      "outputs": [],
      "execution_count": 1,
      "metadata": {
        "gather": {
          "logged": 1744296571938
        }
      }
    },
    {
      "cell_type": "code",
      "source": [
        "load_dotenv(dotenv_path='../infra/credentials.env', override=True)"
      ],
      "outputs": [
        {
          "output_type": "execute_result",
          "execution_count": 2,
          "data": {
            "text/plain": "True"
          },
          "metadata": {}
        }
      ],
      "execution_count": 2,
      "metadata": {
        "gather": {
          "logged": 1744296572851
        }
      }
    },
    {
      "cell_type": "code",
      "source": [
        "logging.basicConfig(level=logging.INFO)"
      ],
      "outputs": [],
      "execution_count": 3,
      "metadata": {
        "gather": {
          "logged": 1744296573895
        }
      }
    },
    {
      "cell_type": "code",
      "source": [
        "AZURE_AI_ENDPOINT = os.getenv(\"AZURE_CU_ENDPOINT\")\n",
        "AZURE_AI_API_VERSION = os.getenv(\"AZURE_CU_API_VERSION\", \"2024-12-01-preview\")\n",
        "print(f\"Current Azure Content Understanding endpoint: {AZURE_AI_ENDPOINT}\")\n",
        "print(f\"Current Azure Content Understanding API version: {AZURE_AI_API_VERSION}\")"
      ],
      "outputs": [
        {
          "output_type": "stream",
          "name": "stdout",
          "text": "Current Azure Content Understanding endpoint: https://ai-aifoundryupskillinghub687267079310.services.ai.azure.com/\nCurrent Azure Content Understanding API version: 2024-12-01-preview\n"
        }
      ],
      "execution_count": 4,
      "metadata": {
        "gather": {
          "logged": 1744296575951
        }
      }
    },
    {
      "cell_type": "code",
      "source": [
        "# only if necessary, add the parent directory to the path to use shared modules\n",
        "# parent_dir = Path(Path.cwd()).parent\n",
        "# sys.path.append(str(parent_dir))\n",
        "\n",
        "# import the utility class AzureContentUnderstandingClient, which is a wrapper around the Azure Content Understanding REST API client\n",
        "from python.content_understanding_client import AzureContentUnderstandingClient"
      ],
      "outputs": [],
      "execution_count": 5,
      "metadata": {
        "gather": {
          "logged": 1744296579772
        }
      }
    },
    {
      "cell_type": "code",
      "source": [
        "credential = DefaultAzureCredential()\n",
        "token_provider = get_bearer_token_provider(credential, \"https://cognitiveservices.azure.com/.default\")"
      ],
      "outputs": [
        {
          "output_type": "stream",
          "name": "stderr",
          "text": "INFO:azure.identity._credentials.environment:No environment configuration found.\nINFO:azure.identity._credentials.managed_identity:ManagedIdentityCredential will use Azure ML managed identity\n"
        }
      ],
      "execution_count": 6,
      "metadata": {
        "gather": {
          "logged": 1744296581629
        }
      }
    },
    {
      "cell_type": "code",
      "source": [
        "client = AzureContentUnderstandingClient(\n",
        "    endpoint=AZURE_AI_ENDPOINT,\n",
        "    api_version=AZURE_AI_API_VERSION,\n",
        "    token_provider=token_provider,\n",
        "    x_ms_useragent=\"azure-ai-content-understanding-python/analyzer_management\", # This header is used for sample usage telemetry, please comment out this line if you want to opt out.\n",
        ")"
      ],
      "outputs": [
        {
          "output_type": "stream",
          "name": "stderr",
          "text": "INFO:azure.core.pipeline.policies.http_logging_policy:Request URL: 'http://127.0.0.1:46808/MSI/auth?api-version=REDACTED&resource=REDACTED'\nRequest method: 'GET'\nRequest headers:\n    'secret': 'REDACTED'\n    'User-Agent': 'azsdk-python-identity/1.21.0 Python/3.10.16 (Linux-5.15.0-1073-azure-x86_64-with-glibc2.31)'\nNo body was attached to the request\nINFO:azure.core.pipeline.policies.http_logging_policy:Response status: 200\nResponse headers:\n    'Content-Type': 'application/json'\n    'Date': 'Thu, 10 Apr 2025 14:49:42 GMT'\n    'Transfer-Encoding': 'chunked'\nINFO:azure.identity._credentials.chained:DefaultAzureCredential acquired a token from ManagedIdentityCredential\n"
        }
      ],
      "execution_count": 7,
      "metadata": {
        "gather": {
          "logged": 1744296583763
        }
      }
    },
    {
      "cell_type": "markdown",
      "source": [
        "## Create a simple analyzer\n",
        "We first create an analyzer from a template to extract invoice fields."
      ],
      "metadata": {}
    },
    {
      "cell_type": "code",
      "source": [
        "import uuid\n",
        "\n",
        "ANALYZER_TEMPLATE = \"analyzer_templates/call_recording_analytics.json\"\n",
        "ANALYZER_ID = \"analyzer-management-sample-\" + str(uuid.uuid4())\n",
        "\n",
        "response = client.begin_create_analyzer(ANALYZER_ID, analyzer_template_path=ANALYZER_TEMPLATE)\n",
        "result = client.poll_result(response)\n",
        "\n",
        "print(json.dumps(result, indent=2))"
      ],
      "outputs": [
        {
          "output_type": "stream",
          "name": "stderr",
          "text": "INFO:python.content_understanding_client:Analyzer analyzer-management-sample-3d7b2f34-bde3-44de-bddf-ab506efd01e1 create request accepted.\nINFO:python.content_understanding_client:Request 79c01a62-74ea-420b-a5ea-39db02aa865d in progress ...\n"
        },
        {
          "output_type": "stream",
          "name": "stdout",
          "text": "{\n  \"id\": \"79c01a62-74ea-420b-a5ea-39db02aa865d\",\n  \"status\": \"Succeeded\",\n  \"result\": {\n    \"analyzerId\": \"analyzer-management-sample-3d7b2f34-bde3-44de-bddf-ab506efd01e1\",\n    \"description\": \"Sample call recording analytics\",\n    \"createdAt\": \"2025-04-10T14:49:52Z\",\n    \"lastModifiedAt\": \"2025-04-10T14:49:52Z\",\n    \"config\": {\n      \"locales\": [\n        \"en-US\"\n      ],\n      \"returnDetails\": true,\n      \"disableContentFiltering\": false\n    },\n    \"fieldSchema\": {\n      \"fields\": {\n        \"Summary\": {\n          \"type\": \"string\",\n          \"method\": \"generate\",\n          \"description\": \"A one-paragraph summary\"\n        },\n        \"Topics\": {\n          \"type\": \"array\",\n          \"method\": \"generate\",\n          \"description\": \"Top 5 topics mentioned\",\n          \"items\": {\n            \"type\": \"string\"\n          }\n        },\n        \"Companies\": {\n          \"type\": \"array\",\n          \"method\": \"generate\",\n          \"description\": \"List of companies mentioned\",\n          \"items\": {\n            \"type\": \"string\"\n          }\n        },\n        \"People\": {\n          \"type\": \"array\",\n          \"method\": \"generate\",\n          \"description\": \"List of people mentioned\",\n          \"items\": {\n            \"type\": \"object\",\n            \"properties\": {\n              \"Name\": {\n                \"type\": \"string\",\n                \"description\": \"Person's name\"\n              },\n              \"Role\": {\n                \"type\": \"string\",\n                \"description\": \"Person's title/role\"\n              }\n            }\n          }\n        },\n        \"Sentiment\": {\n          \"type\": \"string\",\n          \"method\": \"classify\",\n          \"description\": \"Overall sentiment\",\n          \"enum\": [\n            \"Positive\",\n            \"Neutral\",\n            \"Negative\"\n          ]\n        },\n        \"Categories\": {\n          \"type\": \"array\",\n          \"method\": \"classify\",\n          \"description\": \"List of relevant categories\",\n          \"items\": {\n            \"type\": \"string\",\n            \"enum\": [\n              \"Agriculture\",\n              \"Business\",\n              \"Finance\",\n              \"Health\",\n              \"Insurance\",\n              \"Mining\",\n              \"Pharmaceutical\",\n              \"Retail\",\n              \"Technology\",\n              \"Transportation\"\n            ]\n          }\n        }\n      }\n    },\n    \"warnings\": [],\n    \"status\": \"ready\",\n    \"scenario\": \"callCenter\"\n  }\n}\n"
        }
      ],
      "execution_count": 8,
      "metadata": {
        "gather": {
          "logged": 1744296596358
        }
      }
    },
    {
      "cell_type": "markdown",
      "source": [
        "## List all analyzers created in your resource"
      ],
      "metadata": {}
    },
    {
      "cell_type": "markdown",
      "source": [
        "After the analyzer is successfully created, we can use it to analyze our input files."
      ],
      "metadata": {}
    },
    {
      "cell_type": "code",
      "source": [
        "all_analyzers = client.get_all_analyzers()\n",
        "print(f\"Number of analyzers in your resource: {len(all_analyzers['value'])}\")\n",
        "print(f\"First 3 analyzer details: {json.dumps(all_analyzers['value'][:3], indent=2)}\")"
      ],
      "outputs": [
        {
          "output_type": "stream",
          "name": "stdout",
          "text": "Number of analyzers in your resource: 2\nFirst 3 analyzer details: [\n  {\n    \"analyzerId\": \"prebuilt-read\",\n    \"description\": \"Extract content elements such as words, barcodes, and formulas from documents.\",\n    \"config\": {\n      \"returnDetails\": true,\n      \"enableOcr\": true,\n      \"enableLayout\": false,\n      \"enableBarcode\": false,\n      \"enableFormula\": false\n    },\n    \"warnings\": [],\n    \"status\": \"undefined\",\n    \"scenario\": \"document\"\n  },\n  {\n    \"analyzerId\": \"prebuilt-layout\",\n    \"description\": \"Extract various content and layout elements such as words, paragraphs, and tables from documents.\",\n    \"config\": {\n      \"returnDetails\": true,\n      \"enableOcr\": true,\n      \"enableLayout\": true,\n      \"enableBarcode\": false,\n      \"enableFormula\": false\n    },\n    \"warnings\": [],\n    \"status\": \"undefined\",\n    \"scenario\": \"document\"\n  }\n]\n"
        }
      ],
      "execution_count": 17,
      "metadata": {
        "gather": {
          "logged": 1744296673577
        }
      }
    },
    {
      "cell_type": "code",
      "source": [
        "import pandas as pd\n",
        "df_analyzers = pd.json_normalize(all_analyzers['value'])\n",
        "df_analyzers_sorted = df_analyzers.sort_values(by='createdAt', ascending=True)\n",
        "df_analyzers_sorted"
      ],
      "outputs": [
        {
          "output_type": "execute_result",
          "execution_count": 19,
          "data": {
            "text/plain": "        analyzerId                                        description  \\\n0    prebuilt-read  Extract content elements such as words, barcod...   \n1  prebuilt-layout  Extract various content and layout elements su...   \n\n  warnings     status  scenario  config.returnDetails  config.enableOcr  \\\n0       []  undefined  document                  True              True   \n1       []  undefined  document                  True              True   \n\n   config.enableLayout  config.enableBarcode  config.enableFormula  \n0                False                 False                 False  \n1                 True                 False                 False  ",
            "text/html": "<div>\n<style scoped>\n    .dataframe tbody tr th:only-of-type {\n        vertical-align: middle;\n    }\n\n    .dataframe tbody tr th {\n        vertical-align: top;\n    }\n\n    .dataframe thead th {\n        text-align: right;\n    }\n</style>\n<table border=\"1\" class=\"dataframe\">\n  <thead>\n    <tr style=\"text-align: right;\">\n      <th></th>\n      <th>analyzerId</th>\n      <th>description</th>\n      <th>warnings</th>\n      <th>status</th>\n      <th>scenario</th>\n      <th>config.returnDetails</th>\n      <th>config.enableOcr</th>\n      <th>config.enableLayout</th>\n      <th>config.enableBarcode</th>\n      <th>config.enableFormula</th>\n    </tr>\n  </thead>\n  <tbody>\n    <tr>\n      <th>0</th>\n      <td>prebuilt-read</td>\n      <td>Extract content elements such as words, barcod...</td>\n      <td>[]</td>\n      <td>undefined</td>\n      <td>document</td>\n      <td>True</td>\n      <td>True</td>\n      <td>False</td>\n      <td>False</td>\n      <td>False</td>\n    </tr>\n    <tr>\n      <th>1</th>\n      <td>prebuilt-layout</td>\n      <td>Extract various content and layout elements su...</td>\n      <td>[]</td>\n      <td>undefined</td>\n      <td>document</td>\n      <td>True</td>\n      <td>True</td>\n      <td>True</td>\n      <td>False</td>\n      <td>False</td>\n    </tr>\n  </tbody>\n</table>\n</div>"
          },
          "metadata": {}
        }
      ],
      "execution_count": 19,
      "metadata": {
        "gather": {
          "logged": 1744296693469
        }
      }
    },
    {
      "cell_type": "markdown",
      "source": [
        "## Get analyzer details with id\n",
        "\n",
        "Remember the analyzer id when you create it. You can use the id to look up detail analyzer definitions afterwards."
      ],
      "metadata": {}
    },
    {
      "cell_type": "code",
      "source": [
        "result = client.get_analyzer_detail_by_id(ANALYZER_ID)\n",
        "print(json.dumps(result, indent=2))"
      ],
      "outputs": [
        {
          "output_type": "stream",
          "name": "stdout",
          "text": "{\n  \"analyzerId\": \"analyzer-management-sample-3d7b2f34-bde3-44de-bddf-ab506efd01e1\",\n  \"description\": \"Sample call recording analytics\",\n  \"createdAt\": \"2025-04-10T14:49:52Z\",\n  \"lastModifiedAt\": \"2025-04-10T14:49:52Z\",\n  \"config\": {\n    \"locales\": [\n      \"en-US\"\n    ],\n    \"returnDetails\": true,\n    \"disableContentFiltering\": false\n  },\n  \"fieldSchema\": {\n    \"fields\": {\n      \"Summary\": {\n        \"type\": \"string\",\n        \"method\": \"generate\",\n        \"description\": \"A one-paragraph summary\"\n      },\n      \"Topics\": {\n        \"type\": \"array\",\n        \"method\": \"generate\",\n        \"description\": \"Top 5 topics mentioned\",\n        \"items\": {\n          \"type\": \"string\"\n        }\n      },\n      \"Companies\": {\n        \"type\": \"array\",\n        \"method\": \"generate\",\n        \"description\": \"List of companies mentioned\",\n        \"items\": {\n          \"type\": \"string\"\n        }\n      },\n      \"People\": {\n        \"type\": \"array\",\n        \"method\": \"generate\",\n        \"description\": \"List of people mentioned\",\n        \"items\": {\n          \"type\": \"object\",\n          \"properties\": {\n            \"Name\": {\n              \"type\": \"string\",\n              \"description\": \"Person's name\"\n            },\n            \"Role\": {\n              \"type\": \"string\",\n              \"description\": \"Person's title/role\"\n            }\n          }\n        }\n      },\n      \"Sentiment\": {\n        \"type\": \"string\",\n        \"method\": \"classify\",\n        \"description\": \"Overall sentiment\",\n        \"enum\": [\n          \"Positive\",\n          \"Neutral\",\n          \"Negative\"\n        ]\n      },\n      \"Categories\": {\n        \"type\": \"array\",\n        \"method\": \"classify\",\n        \"description\": \"List of relevant categories\",\n        \"items\": {\n          \"type\": \"string\",\n          \"enum\": [\n            \"Agriculture\",\n            \"Business\",\n            \"Finance\",\n            \"Health\",\n            \"Insurance\",\n            \"Mining\",\n            \"Pharmaceutical\",\n            \"Retail\",\n            \"Technology\",\n            \"Transportation\"\n          ]\n        }\n      }\n    }\n  },\n  \"warnings\": [],\n  \"status\": \"ready\",\n  \"scenario\": \"callCenter\"\n}\n"
        }
      ],
      "execution_count": 12,
      "metadata": {
        "gather": {
          "logged": 1744296640864
        }
      }
    },
    {
      "cell_type": "markdown",
      "source": [
        "## Delete Analyzer\n",
        "If you don't need an analyzer anymore, delete it with its id."
      ],
      "metadata": {}
    },
    {
      "cell_type": "code",
      "source": [
        "client.delete_analyzer(ANALYZER_ID)"
      ],
      "outputs": [
        {
          "output_type": "stream",
          "name": "stderr",
          "text": "INFO:python.content_understanding_client:Analyzer analyzer-management-sample-3d7b2f34-bde3-44de-bddf-ab506efd01e1 deleted.\n"
        },
        {
          "output_type": "execute_result",
          "execution_count": 13,
          "data": {
            "text/plain": "<Response [204]>"
          },
          "metadata": {}
        }
      ],
      "execution_count": 13,
      "metadata": {
        "gather": {
          "logged": 1744296644034
        }
      }
    }
  ],
  "metadata": {
    "kernel_info": {
      "name": "my_env"
    },
    "kernelspec": {
      "name": "my_env",
      "language": "python",
      "display_name": "my_env"
    },
    "language_info": {
      "name": "python",
      "version": "3.10.16",
      "mimetype": "text/x-python",
      "codemirror_mode": {
        "name": "ipython",
        "version": 3
      },
      "pygments_lexer": "ipython3",
      "nbconvert_exporter": "python",
      "file_extension": ".py"
    },
    "microsoft": {
      "ms_spell_check": {
        "ms_spell_check_language": "en"
      }
    },
    "nteract": {
      "version": "nteract-front-end@1.0.0"
    }
  },
  "nbformat": 4,
  "nbformat_minor": 2
}