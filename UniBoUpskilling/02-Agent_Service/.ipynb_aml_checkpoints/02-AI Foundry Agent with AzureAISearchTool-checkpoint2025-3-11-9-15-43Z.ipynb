{
 "cells": [
  {
   "attachments": {},
   "cell_type": "markdown",
   "id": "6aff6e2d-97b4-441c-b548-2557bafae055",
   "metadata": {},
   "source": [
    "# [Create Agent with Azure AI Search](https://learn.microsoft.com/en-us/python/api/overview/azure/ai-projects-readme?view=azure-python-preview#create-agent-with-azure-ai-search)\n",
    "Azure AI Search is an enterprise search system for high-performance applications. It integrates with Azure OpenAI Service and Azure Machine Learning, offering advanced search technologies like vector search and full-text search. Ideal for knowledge base insights, information discovery, and automation.<br/><br/>\n",
    "**IMPORTANT**: in order to create the index leveraging the \"Import and Vectorize\" wizard, the `Storage Blob Data Contributor` role on the Storage Account is needed for the Azure AI Managed Identity."
   ]
  },
  {
   "cell_type": "markdown",
   "id": "a59136b0-7233-41a3-a2c7-104239de7990",
   "metadata": {},
   "source": [
    "## Create a connection to Azure AI Search using CLI\n",
    "\n",
    "1. First of all, let's check which connections we have, associated to our project mmai-hub04-prj01-fvye:\n",
    "   ```az ml connection list --resource-group mmai04-rg --workspace-name mmai-hub04-prj01-fvye```\n",
    "3. Now, create a new yaml file with the configuration for Azure AI Search, using key-based or key-less (as in this case) authentication. **Please note that the \"metadata\" section must be filled as shown, including the ResourceId that must contain the connection name reporten on line 1**:\n",
    "```\n",
    "name: mmai-hub04-fvye-connection-AISearch\n",
    "type: azure_ai_search\n",
    "endpoint: https://mmai-hub04-ai-search-fvye.search.windows.net/\n",
    "is_shared: true\n",
    "metadata:\n",
    "  ApiType: Azure\n",
    "  ResourceId: /subscriptions/eca2eddb-0f0c-4351-a634-52751499eeea/resourceGroups/mmai04-rg/providers/Microsoft.Search/searchServices/mmai-hub04-fvye-connection-AISearch\n",
    "  type: azure_ai_search\n",
    "  ```\n",
    "\n",
    "3. Run the command `az ml connection create --file aisearchconnection.yml --resource-group mmai04-rg --workspace-name mmai-hub04-prj01-fvye`\n"
   ]
  },
  {
   "cell_type": "markdown",
   "id": "bcf7da6f-e589-4c2a-a5d8-61ecb9d6fe42",
   "metadata": {},
   "source": [
    "# Constants"
   ]
  },
  {
   "cell_type": "code",
   "execution_count": 1,
   "id": "98d9cc9d-cbef-4b35-a4a3-84802dd4ee06",
   "metadata": {
    "gather": {
     "logged": 1744302089561
    }
   },
   "outputs": [
    {
     "name": "stdout",
     "output_type": "stream",
     "text": [
      "Project Connection String: <...ing-rg;aifoundry-upskilling-pj>\n"
     ]
    }
   ],
   "source": [
    "import os\n",
    "from dotenv import load_dotenv # requires python-dotenv\n",
    "# import logging\n",
    "# logging.basicConfig(level=logging.INFO) # Configure logging \n",
    "\n",
    "load_dotenv(dotenv_path='../infra/credentials.env', override=True)\n",
    " \n",
    "model_name = os.environ[\"MODEL_DEPLOYMENT_NAME\"]\n",
    "project_connection_string = os.environ[\"AI_PROJECT_CONNECTION_STRING\"]\n",
    "\n",
    "print(f'Project Connection String: <...{project_connection_string[-30:]}>')"
   ]
  },
  {
   "cell_type": "markdown",
   "id": "b2cf9908-abe3-4023-a49e-7e5e3f24173f",
   "metadata": {},
   "source": [
    "# Create AI Foundry Project Client"
   ]
  },
  {
   "cell_type": "code",
   "execution_count": 6,
   "id": "5a9abb62-b855-402f-9e22-583ffe6bf8cb",
   "metadata": {
    "gather": {
     "logged": 1744303527261
    }
   },
   "outputs": [
    {
     "data": {
      "text/plain": [
       "{'subscription_id': 'dbc342d5-96b5-4aef-a49d-5f6cbd7db6ce',\n",
       " 'resource_group_name': 'aifoundry-upskilling-rg',\n",
       " 'project_name': 'aifoundry-upskilling-pj'}"
      ]
     },
     "execution_count": 6,
     "metadata": {},
     "output_type": "execute_result"
    }
   ],
   "source": [
    "from azure.ai.projects import AIProjectClient\n",
    "from azure.ai.projects.models import AzureAISearchTool,AzureAISearchQueryType# <<<<<<<<<<<<<<< SPECIFIC FOR AZURE AI SEARCH\n",
    "from azure.identity import DefaultAzureCredential\n",
    "\n",
    "project_client = AIProjectClient.from_connection_string(\n",
    "    credential=DefaultAzureCredential(), conn_str=project_connection_string\n",
    ")\n",
    "\n",
    "project_client.scope"
   ]
  },
  {
   "cell_type": "markdown",
   "id": "57263e8c-9736-41e6-8dee-19fe1c2d3491",
   "metadata": {},
   "source": [
    "# List existing connections and highlight the \"AI Search\" ones"
   ]
  },
  {
   "cell_type": "code",
   "execution_count": 7,
   "id": "7f45388f-98a6-463c-a163-fbff707c5163",
   "metadata": {
    "gather": {
     "logged": 1744303278161
    }
   },
   "outputs": [
    {
     "name": "stdout",
     "output_type": "stream",
     "text": [
      ">>>>>>> AI SEARCH FOUND: {\n",
      " \"name\": \"AzureAISearch\",\n",
      " \"id\": \"/subscriptions/dbc342d5-96b5-4aef-a49d-5f6cbd7db6ce/resourceGroups/aifoundry-upskilling-rg/providers/Microsoft.MachineLearningServices/workspaces/aifoundry-upskilling-pj/connections/AzureAISearch\",\n",
      " \"authentication_type\": \"ApiKey\",\n",
      " \"connection_type\": \"CognitiveSearch\",\n",
      " \"endpoint_url\": \"https://ai-search-abutneva687267079310.search.windows.net\",\n",
      " \"key\": null\n",
      " \"token_credential\": null\n",
      "}\n",
      "\n",
      "{\n",
      " \"name\": \"ai-aifoundryupskillinghub687267079310_aoai\",\n",
      " \"id\": \"/subscriptions/dbc342d5-96b5-4aef-a49d-5f6cbd7db6ce/resourceGroups/aifoundry-upskilling-rg/providers/Microsoft.MachineLearningServices/workspaces/aifoundry-upskilling-pj/connections/ai-aifoundryupskillinghub687267079310_aoai\",\n",
      " \"authentication_type\": \"ApiKey\",\n",
      " \"connection_type\": \"AzureOpenAI\",\n",
      " \"endpoint_url\": \"https://ai-aifoundryupskillinghub687267079310.openai.azure.com\",\n",
      " \"key\": null\n",
      " \"token_credential\": null\n",
      "}\n",
      "\n",
      "{\n",
      " \"name\": \"ai-aifoundryupskillinghub687267079310\",\n",
      " \"id\": \"/subscriptions/dbc342d5-96b5-4aef-a49d-5f6cbd7db6ce/resourceGroups/aifoundry-upskilling-rg/providers/Microsoft.MachineLearningServices/workspaces/aifoundry-upskilling-pj/connections/ai-aifoundryupskillinghub687267079310\",\n",
      " \"authentication_type\": \"ApiKey\",\n",
      " \"connection_type\": \"AIServices\",\n",
      " \"endpoint_url\": \"https://ai-aifoundryupskillinghub687267079310.cognitiveservices.azure.com\",\n",
      " \"key\": null\n",
      " \"token_credential\": null\n",
      "}\n",
      "\n",
      "{\n",
      " \"name\": \"aifoundryupskillingdocintelligence\",\n",
      " \"id\": \"/subscriptions/dbc342d5-96b5-4aef-a49d-5f6cbd7db6ce/resourceGroups/aifoundry-upskilling-rg/providers/Microsoft.MachineLearningServices/workspaces/aifoundry-upskilling-pj/connections/aifoundryupskillingdocintelligence\",\n",
      " \"authentication_type\": \"ApiKey\",\n",
      " \"connection_type\": \"CognitiveService\",\n",
      " \"endpoint_url\": \"https://aifoundry-upskilling-docintelligence.cognitiveservices.azure.com\",\n",
      " \"key\": null\n",
      " \"token_credential\": null\n",
      "}\n",
      "\n",
      "{\n",
      " \"name\": \"bingsearchaievaluation\",\n",
      " \"id\": \"/subscriptions/dbc342d5-96b5-4aef-a49d-5f6cbd7db6ce/resourceGroups/aifoundry-upskilling-rg/providers/Microsoft.MachineLearningServices/workspaces/aifoundry-upskilling-pj/connections/bingsearchaievaluation\",\n",
      " \"authentication_type\": \"ApiKey\",\n",
      " \"connection_type\": \"ApiKey\",\n",
      " \"endpoint_url\": \"https://api.bing.microsoft.com\",\n",
      " \"key\": null\n",
      " \"token_credential\": null\n",
      "}\n",
      "\n",
      "{\n",
      " \"name\": \"aifoundry-upskilling-pj/regolamenti_unipd_conn\",\n",
      " \"id\": \"/subscriptions/dbc342d5-96b5-4aef-a49d-5f6cbd7db6ce/resourceGroups/aifoundry-upskilling-rg/providers/Microsoft.MachineLearningServices/workspaces/aifoundry-upskilling-pj/connections/aifoundry-upskilling-pj/regolamenti_unipd_conn\",\n",
      " \"authentication_type\": \"AccountKey\",\n",
      " \"connection_type\": \"AzureBlob\",\n",
      " \"endpoint_url\": \"https://staifoundryu687267079310.core.windows.net/regolamenti-uni-padova\",\n",
      " \"key\": null\n",
      " \"token_credential\": null\n",
      "}\n",
      "\n",
      "{\n",
      " \"name\": \"aifoundry-upskilling-pj/workspaceblobstore\",\n",
      " \"id\": \"/subscriptions/dbc342d5-96b5-4aef-a49d-5f6cbd7db6ce/resourceGroups/aifoundry-upskilling-rg/providers/Microsoft.MachineLearningServices/workspaces/aifoundry-upskilling-pj/connections/aifoundry-upskilling-pj/workspaceblobstore\",\n",
      " \"authentication_type\": \"SAS\",\n",
      " \"connection_type\": \"AzureBlob\",\n",
      " \"endpoint_url\": \"https://staifoundryu687267079310.core.windows.net/4e3792d2-0348-4c4d-910f-9d069e75fff4-azureml-blobstore\",\n",
      " \"key\": null\n",
      " \"token_credential\": null\n",
      "}\n",
      "\n",
      "{\n",
      " \"name\": \"aifoundry-upskilling-pj/workspaceartifactstore\",\n",
      " \"id\": \"/subscriptions/dbc342d5-96b5-4aef-a49d-5f6cbd7db6ce/resourceGroups/aifoundry-upskilling-rg/providers/Microsoft.MachineLearningServices/workspaces/aifoundry-upskilling-pj/connections/aifoundry-upskilling-pj/workspaceartifactstore\",\n",
      " \"authentication_type\": \"SAS\",\n",
      " \"connection_type\": \"AzureBlob\",\n",
      " \"endpoint_url\": \"https://staifoundryu687267079310.core.windows.net/4e3792d2-0348-4c4d-910f-9d069e75fff4-azureml\",\n",
      " \"key\": null\n",
      " \"token_credential\": null\n",
      "}\n",
      "\n"
     ]
    }
   ],
   "source": [
    "conn_list = project_client.connections.list()\n",
    "conn_id = \"\"\n",
    "for conn in conn_list:    \n",
    "    if conn.connection_type == \"CognitiveSearch\":\n",
    "        print(f\">>>>>>> AI SEARCH FOUND: {conn}\")\n",
    "        conn_id = conn.id\n",
    "    else:\n",
    "        print(conn)"
   ]
  },
  {
   "cell_type": "markdown",
   "id": "d82b832b-d86e-46c4-9968-6a5056a63e63",
   "metadata": {},
   "source": [
    "# Chosen AI Search Connection"
   ]
  },
  {
   "cell_type": "code",
   "execution_count": 4,
   "id": "39c9c299-d540-4d97-bf96-ef6bac3f4fe4",
   "metadata": {
    "gather": {
     "logged": 1744303281343
    }
   },
   "outputs": [
    {
     "data": {
      "text/plain": [
       "'/subscriptions/dbc342d5-96b5-4aef-a49d-5f6cbd7db6ce/resourceGroups/aifoundry-upskilling-rg/providers/Microsoft.MachineLearningServices/workspaces/aifoundry-upskilling-pj/connections/AzureAISearch'"
      ]
     },
     "execution_count": 4,
     "metadata": {},
     "output_type": "execute_result"
    }
   ],
   "source": [
    "conn_id"
   ]
  },
  {
   "cell_type": "markdown",
   "id": "59f94c6a-d7c2-43c8-8fb3-fb14a98d5fee",
   "metadata": {},
   "source": [
    "# Initialize `AzureAISearchTool`, adding the connection id to it"
   ]
  },
  {
   "cell_type": "code",
   "execution_count": 18,
   "id": "db6d8143-2d9b-4454-81eb-7e4bf91523d3",
   "metadata": {
    "gather": {
     "logged": 1744303419267
    }
   },
   "outputs": [
    {
     "name": "stdout",
     "output_type": "stream",
     "text": [
      "ai_search.definitions: [{'type': 'azure_ai_search'}]\n",
      "ai_search.resources: {'azure_ai_search': {'indexes': [{'index_connection_id': '/subscriptions/dbc342d5-96b5-4aef-a49d-5f6cbd7db6ce/resourceGroups/aifoundry-upskilling-rg/providers/Microsoft.MachineLearningServices/workspaces/aifoundry-upskilling-pj/connections/AzureAISearch', 'index_name': 'my-index-2025-04-10-2025-04-10-sdk', 'query_type': 'simple', 'filter': '', 'top_k': 5}]}}\n"
     ]
    }
   ],
   "source": [
    "ai_search = AzureAISearchTool(index_connection_id=conn_id, \n",
    "                              index_name=os.environ[\"AZURE_SEARCH_INDEX_NAME\"],\n",
    "                              query_type=AzureAISearchQueryType.SIMPLE)\n",
    "print(f\"ai_search.definitions: {ai_search.definitions}\")\n",
    "print(f\"ai_search.resources: {ai_search.resources}\")"
   ]
  },
  {
   "cell_type": "markdown",
   "id": "77755d46-20df-44eb-804c-3ef469b5ac5b",
   "metadata": {},
   "source": [
    "# Create AI Foundry Agent"
   ]
  },
  {
   "cell_type": "code",
   "execution_count": 19,
   "id": "c2f4c841-42aa-4245-9bdd-a5811b9f424a",
   "metadata": {
    "gather": {
     "logged": 1744302106263
    }
   },
   "outputs": [
    {
     "data": {
      "text/plain": [
       "<bound method _MyMutableMapping.items of {'id': 'asst_9Kd1nfi17pROi1QeuahE8dxj', 'object': 'assistant', 'created_at': 1744305143, 'name': 'aisearch-agent', 'description': None, 'model': 'gpt-4o', 'instructions': 'You are a helpful assistant', 'tools': [{'type': 'azure_ai_search'}], 'top_p': 1.0, 'temperature': 1.0, 'tool_resources': {'azure_ai_search': {'indexes': [{'index_connection_id': '/subscriptions/dbc342d5-96b5-4aef-a49d-5f6cbd7db6ce/resourceGroups/aifoundry-upskilling-rg/providers/Microsoft.MachineLearningServices/workspaces/aifoundry-upskilling-pj/connections/AzureAISearch', 'index_name': 'my-index-2025-04-10-2025-04-10-sdk', 'query_type': 'simple', 'top_k': 5, 'filter': ''}]}}, 'metadata': {}, 'response_format': 'auto'}>"
      ]
     },
     "execution_count": 19,
     "metadata": {},
     "output_type": "execute_result"
    }
   ],
   "source": [
    "# Create agent with AI search tool and process assistant run\n",
    "agent = project_client.agents.create_agent(\n",
    "    model=model_name,\n",
    "    name=\"aisearch-agent\",\n",
    "    instructions=\"You are a helpful assistant\",\n",
    "    tools=ai_search.definitions,\n",
    "    tool_resources=ai_search.resources,\n",
    "    headers={\"x-ms-enable-preview\": \"true\"},\n",
    ")\n",
    "\n",
    "agent.items"
   ]
  },
  {
   "cell_type": "markdown",
   "id": "79a07fe3-2500-4fb1-bb01-a697e4b7f02d",
   "metadata": {},
   "source": [
    "# Create the thread and attach a new message to it"
   ]
  },
  {
   "cell_type": "code",
   "execution_count": 20,
   "id": "ab44f7b1-8043-4594-bfcc-1c38bb38fe11",
   "metadata": {
    "gather": {
     "logged": 1744302111192
    }
   },
   "outputs": [
    {
     "name": "stdout",
     "output_type": "stream",
     "text": [
      "Created thread: {'id': 'thread_9gf2N8Mtpfv4Sgsy9JMjsfta', 'object': 'thread', 'created_at': 1744305146, 'metadata': {}, 'tool_resources': {}}\n",
      "\n",
      "Created message: {'id': 'msg_Tf1EjIZZI0U3n14v1DjH47nB', 'object': 'thread.message', 'created_at': 1744305146, 'assistant_id': None, 'thread_id': 'thread_9gf2N8Mtpfv4Sgsy9JMjsfta', 'run_id': None, 'role': 'user', 'content': [{'type': 'text', 'text': {'value': 'What was the country with the lowest GDP in 2023? Do **NOT** use your own internal knowledge.', 'annotations': []}}], 'attachments': [], 'metadata': {}}\n"
     ]
    }
   ],
   "source": [
    "# Create a thread\n",
    "thread = project_client.agents.create_thread()\n",
    "print(f\"Created thread: {thread}\\n\")\n",
    "\n",
    "# Add a user message to the thread\n",
    "message = project_client.agents.create_message(\n",
    "    thread_id=thread.id, \n",
    "    role=\"user\", \n",
    "    content=\"What was the country with the lowest GDP in 2023? Do **NOT** use your own internal knowledge.\",\n",
    ")\n",
    "print(f\"Created message: {message}\")"
   ]
  },
  {
   "cell_type": "markdown",
   "id": "ce7eb1d6-bb0d-4da7-a377-b36f8e8881c0",
   "metadata": {},
   "source": [
    "# Run the agent synchronously"
   ]
  },
  {
   "cell_type": "code",
   "execution_count": 21,
   "id": "09b34c7b-8190-4c83-98ed-663e956f2864",
   "metadata": {},
   "outputs": [
    {
     "name": "stdout",
     "output_type": "stream",
     "text": [
      "Run finished with status: completed.\n",
      "\n",
      "Run: {'id': 'run_mZ8ojvg42pk88AQVPLDSbB97', 'object': 'thread.run', 'created_at': 1744305149, 'assistant_id': 'asst_9Kd1nfi17pROi1QeuahE8dxj', 'thread_id': 'thread_9gf2N8Mtpfv4Sgsy9JMjsfta', 'status': 'completed', 'started_at': 1744305150, 'expires_at': None, 'cancelled_at': None, 'failed_at': None, 'completed_at': 1744305152, 'required_action': None, 'last_error': None, 'model': 'gpt-4o', 'instructions': 'You are a helpful assistant', 'tools': [{'type': 'azure_ai_search'}], 'tool_resources': {}, 'metadata': {}, 'temperature': 1.0, 'top_p': 1.0, 'max_completion_tokens': None, 'max_prompt_tokens': None, 'truncation_strategy': {'type': 'auto', 'last_messages': None}, 'incomplete_details': None, 'usage': {'prompt_tokens': 3243, 'completion_tokens': 91, 'total_tokens': 3334, 'prompt_token_details': {'cached_tokens': 0}}, 'response_format': 'auto', 'tool_choice': 'auto', 'parallel_tool_calls': True}\n",
      "CPU times: user 13.2 ms, sys: 0 ns, total: 13.2 ms\n",
      "Wall time: 3.81 s\n"
     ]
    }
   ],
   "source": [
    "%%time\n",
    "# Create and process assistant run in thread with tools\n",
    "run = project_client.agents.create_and_process_run\\\n",
    "    (thread_id=thread.id, agent_id=agent.id)\n",
    "\n",
    "print(f\"Run finished with status: {run.status}.\\n\\nRun: {run}\")\n",
    "\n",
    "if run.status == \"failed\":\n",
    "    # Check if you got \"Rate limit is exceeded.\", then you want to get more quota\n",
    "    print(f\"Run failed: {run.last_error}\")"
   ]
  },
  {
   "cell_type": "markdown",
   "id": "c266525d-1a74-4516-a3b8-909c7c5ee8b4",
   "metadata": {},
   "source": [
    "# Fetch messages from the thread after the agent run execution"
   ]
  },
  {
   "cell_type": "code",
   "execution_count": 22,
   "id": "225a1e08-e65a-4a8f-a29f-48da35130645",
   "metadata": {
    "gather": {
     "logged": 1744300775470
    }
   },
   "outputs": [
    {
     "name": "stdout",
     "output_type": "stream",
     "text": [
      "Here are the 2 messages:\n",
      "\n",
      "\n",
      "===== MESSAGE 1 =====\n",
      "\n",
      "CONTENT 1 (MessageTextContent) --> Text: What was the country with the lowest GDP in 2023? Do **NOT** use your own internal knowledge.\n",
      "\n",
      "===== MESSAGE 2 =====\n",
      "\n",
      "CONTENT 1 (MessageTextContent) --> Text: The document does not specify which country had the lowest GDP in 2023. However, it does indicate that the United Kingdom had the largest negative deviation from the pre-crisis GDP trend among listed regions, with a deviation close to -4.0%【3:0†source】. Please note that this information reflects deviations from expected trends rather than absolute GDP values.\n",
      ">>> Annotation in MessageTextContent 1 of message 2: 【3:0†source】\n",
      "\n"
     ]
    }
   ],
   "source": [
    "from azure.ai.projects.models import MessageTextContent, MessageImageFileContent\n",
    "\n",
    "if run.status == 'completed':    \n",
    "    messages = project_client.agents.list_messages(thread_id=thread.id)\n",
    "    messages_nr = len(messages.data)\n",
    "    print(f\"Here are the {messages_nr} messages:\\n\")\n",
    "    \n",
    "    for i, message in enumerate(reversed(messages.data), 1):\n",
    "        j = 0\n",
    "        print(f\"\\n===== MESSAGE {i} =====\")\n",
    "        for c in message.content:\n",
    "            j +=1\n",
    "            if (type(c) is MessageImageFileContent):\n",
    "                print(f\"\\nCONTENT {j} (MessageImageFileContent) --> image_file id: {c.image_file.file_id}\")\n",
    "            elif (type(c) is MessageTextContent):\n",
    "                print(f\"\\nCONTENT {j} (MessageTextContent) --> Text: {c.text.value}\")\n",
    "                for a in c.text.annotations:\n",
    "                    print(f\">>> Annotation in MessageTextContent {j} of message {i}: {a.text}\\n\")\n",
    "\n",
    "else:\n",
    "    print(f\"Sorry, I can't proceed because the run status is {run.status}\")"
   ]
  },
  {
   "cell_type": "code",
   "execution_count": null,
   "id": "8deffde5-8d1e-4774-938c-7d74d34ec4b8",
   "metadata": {
    "gather": {
     "logged": 1744300785240
    }
   },
   "outputs": [],
   "source": [
    "from azure.ai.projects.models import FilePurpose, MessageRole\n",
    "\n",
    "# Get the last message from the sender\n",
    "last_msg = messages.get_last_text_message_by_role(MessageRole.AGENT)\n",
    "if last_msg:\n",
    "    print(f\"Last Message: {last_msg.text.value}\")"
   ]
  },
  {
   "cell_type": "markdown",
   "id": "912679ac-5feb-400c-920e-5ce3f7bfdefc",
   "metadata": {},
   "source": [
    "# Print annotations from the messages"
   ]
  },
  {
   "cell_type": "code",
   "execution_count": null,
   "id": "f46708dc-95a9-4949-b68c-c801cec87112",
   "metadata": {},
   "outputs": [],
   "source": [
    "print(f\"Number of annotation(s): {len(last_msg.text.annotations)}\")\n",
    "\n",
    "for annotation in last_msg.text.annotations:\n",
    "    print(annotation[\"text\"], annotation[\"url_citation\"][\"url\"])"
   ]
  },
  {
   "cell_type": "markdown",
   "id": "5dd16e09-ea32-45c7-bb35-5f0a6c5194c4",
   "metadata": {},
   "source": [
    "# Run Steps"
   ]
  },
  {
   "cell_type": "code",
   "execution_count": null,
   "id": "5af25587-47a5-4d2c-bcd4-9f08949edcc5",
   "metadata": {},
   "outputs": [],
   "source": [
    "run_steps = project_client.agents.list_run_steps(run_id=run.id, thread_id=thread.id)\n",
    "\n",
    "print(f'Nr of run step(s): {len(run_steps[\"data\"])}\\n')\n",
    "i=0\n",
    "for rs in run_steps[\"data\"]:\n",
    "    i += 1\n",
    "    print(f\"Run step {i}: {rs}\", '\\n')"
   ]
  },
  {
   "cell_type": "markdown",
   "id": "944ec759-c053-4ab7-81aa-15cfa4961468",
   "metadata": {},
   "source": [
    "# START Teardown"
   ]
  },
  {
   "cell_type": "code",
   "execution_count": null,
   "id": "11b0c075-9f1a-47ca-b8c8-ad2e9d85b477",
   "metadata": {},
   "outputs": [],
   "source": [
    "print(f\"deleting trhead: {thread}...\")\n",
    "project_client.agents.delete_thread(thread.id)"
   ]
  },
  {
   "cell_type": "code",
   "execution_count": null,
   "id": "48399858-16e3-4b7c-a13a-aa3ed8320539",
   "metadata": {},
   "outputs": [],
   "source": [
    "# Delete all agents\n",
    "\n",
    "print(f\"{len(project_client.agents.list_agents()['data'])} agent(s) will now be deleted\")\n",
    "\n",
    "i=0\n",
    "for pca in project_client.agents.list_agents()['data']:\n",
    "    i += 1\n",
    "    project_client.agents.delete_agent(pca.id)\n",
    "    print(f\"\\n{i} - Agent {pca.name} has been deleted\")"
   ]
  },
  {
   "cell_type": "markdown",
   "id": "c8cc2b04-a0b3-45ee-9066-4306e16511f9",
   "metadata": {},
   "source": [
    "# HIC SUNT LEONES"
   ]
  }
 ],
 "metadata": {
  "kernel_info": {
   "name": "aifoundry_env"
  },
  "kernelspec": {
   "display_name": "aifoundry_env",
   "language": "python",
   "name": "aifoundry_env"
  },
  "language_info": {
   "codemirror_mode": {
    "name": "ipython",
    "version": 3
   },
   "file_extension": ".py",
   "mimetype": "text/x-python",
   "name": "python",
   "nbconvert_exporter": "python",
   "pygments_lexer": "ipython3",
   "version": "3.10.16"
  },
  "microsoft": {
   "ms_spell_check": {
    "ms_spell_check_language": "en"
   }
  },
  "nteract": {
   "version": "nteract-front-end@1.0.0"
  }
 },
 "nbformat": 4,
 "nbformat_minor": 5
}
